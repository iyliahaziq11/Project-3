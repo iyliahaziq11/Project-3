{
 "cells": [
  {
   "cell_type": "markdown",
   "id": "8e038058",
   "metadata": {},
   "source": [
    "# Import Libraries"
   ]
  },
  {
   "cell_type": "code",
   "execution_count": 5,
   "id": "1127fe3d",
   "metadata": {},
   "outputs": [],
   "source": [
    "import matplotlib.pyplot as plt\n",
    "import seaborn as sns\n",
    "import pandas as pd\n",
    "import numpy as np\n",
    "import requests\n",
    "import re\n",
    "import json\n",
    "import time\n",
    "import datetime\n",
    "import math\n",
    "import nltk\n",
    "import string\n",
    "\n",
    "\n",
    "from psaw import PushshiftAPI\n",
    "import praw\n",
    "\n",
    "\n",
    "from sklearn.linear_model import LogisticRegression\n",
    "from sklearn.preprocessing import OneHotEncoder, PolynomialFeatures, StandardScaler, MinMaxScaler\n",
    "from sklearn.model_selection import cross_val_score, train_test_split, cross_val_predict\n",
    "from sklearn.model_selection import GridSearchCV\n",
    "from sklearn.metrics import classification_report, confusion_matrix, precision_score, recall_score, f1_score, accuracy_score\n",
    "from sklearn.metrics import ConfusionMatrixDisplay, plot_confusion_matrix\n",
    "from sklearn.neighbors import KNeighborsClassifier\n",
    "from sklearn.feature_extraction.text import CountVectorizer, TfidfVectorizer\n",
    "from sklearn.naive_bayes import MultinomialNB, BernoulliNB \n",
    "\n",
    "%matplotlib inline\n",
    "pd.set_option('display.max_rows', None)\n",
    "pd.set_option('display.max_columns', None)\n",
    "pd.set_option('display.max_colwidth', None)\n",
    "\n",
    "\n",
    "\n",
    "import warnings\n",
    "warnings.filterwarnings('ignore')"
   ]
  },
  {
   "cell_type": "markdown",
   "id": "18fdb7f4",
   "metadata": {},
   "source": [
    "---"
   ]
  },
  {
   "cell_type": "markdown",
   "id": "65f52f6c",
   "metadata": {},
   "source": [
    "# Pre-processing text data"
   ]
  },
  {
   "cell_type": "code",
   "execution_count": 6,
   "id": "bca8be2b",
   "metadata": {
    "scrolled": true
   },
   "outputs": [],
   "source": [
    "# import dataset from LogReg and NB\n",
    "df_log = pd.read_csv('X_test_results_LogReg.csv')\n",
    "df_nb = pd.read_csv('X_test_results_NB.csv')"
   ]
  },
  {
   "cell_type": "code",
   "execution_count": 7,
   "id": "4c60bf0e",
   "metadata": {},
   "outputs": [],
   "source": [
    "# creating array for index rows where Log Reg prediction was wrong\n",
    "incorrect_pred = np.where((df_log['y_test']!=df_log['y_pred']))\n",
    "incorrect_pred\n",
    "df_log['logreg_result'] = 0\n",
    "\n",
    "for i in range(len(df_log)):\n",
    "    if i in incorrect_pred[0]:\n",
    "        df_log.loc[i,'logreg_result'] = 'wrong'\n",
    "    else:\n",
    "        df_log.loc[i,'logreg_result'] = 'correct'\n",
    "        \n",
    "# creating array for index rows where Naive Bayes prediction was wrong\n",
    "incorrect_pred = np.where((df_nb['y_test']!=df_nb['y_pred']))\n",
    "incorrect_pred\n",
    "df_nb['nb_result'] = 0\n",
    "\n",
    "for i in range(len(df_nb)):\n",
    "    if i in incorrect_pred[0]:\n",
    "        df_nb.loc[i,'nb_result'] = 'wrong'\n",
    "    else:\n",
    "        df_nb.loc[i,'nb_result'] = 'correct'"
   ]
  },
  {
   "cell_type": "code",
   "execution_count": 8,
   "id": "ff0ec110",
   "metadata": {
    "scrolled": true
   },
   "outputs": [],
   "source": [
    "# renaming column names in both dataframes\n",
    "df_log.rename(columns={'Unnamed: 0':'index',\n",
    "                      'y_test':'y_test_logreg',\n",
    "                      'y_pred':'y_pred_logreg'}, inplace=True)\n",
    "\n",
    "df_nb.rename(columns={'Unnamed: 0':'index',\n",
    "                      'y_test':'y_test_nb',\n",
    "                      'y_pred':'y_pred_nb'}, inplace=True)"
   ]
  },
  {
   "cell_type": "code",
   "execution_count": 9,
   "id": "1ac7b623",
   "metadata": {},
   "outputs": [],
   "source": [
    "# merge dataframes on \"index\"\n",
    "df_comparison = pd.merge(df_nb, df_log[['index','y_test_logreg','y_pred_logreg','title','logreg_result']], on='index')"
   ]
  },
  {
   "cell_type": "code",
   "execution_count": 10,
   "id": "adc097a7",
   "metadata": {},
   "outputs": [
    {
     "data": {
      "text/html": [
       "<div>\n",
       "<style scoped>\n",
       "    .dataframe tbody tr th:only-of-type {\n",
       "        vertical-align: middle;\n",
       "    }\n",
       "\n",
       "    .dataframe tbody tr th {\n",
       "        vertical-align: top;\n",
       "    }\n",
       "\n",
       "    .dataframe thead th {\n",
       "        text-align: right;\n",
       "    }\n",
       "</style>\n",
       "<table border=\"1\" class=\"dataframe\">\n",
       "  <thead>\n",
       "    <tr style=\"text-align: right;\">\n",
       "      <th></th>\n",
       "      <th>index</th>\n",
       "      <th>y_test_nb</th>\n",
       "      <th>y_pred_nb</th>\n",
       "      <th>title_x</th>\n",
       "      <th>nb_result</th>\n",
       "      <th>y_test_logreg</th>\n",
       "      <th>y_pred_logreg</th>\n",
       "      <th>title_y</th>\n",
       "      <th>logreg_result</th>\n",
       "    </tr>\n",
       "  </thead>\n",
       "  <tbody>\n",
       "    <tr>\n",
       "      <th>0</th>\n",
       "      <td>1941</td>\n",
       "      <td>0</td>\n",
       "      <td>0</td>\n",
       "      <td>Onion Social CEO Appears Before Hague Tribunal To Be Tried For Crimes Against Humanity, Promote New Website Features</td>\n",
       "      <td>correct</td>\n",
       "      <td>0</td>\n",
       "      <td>0</td>\n",
       "      <td>Onion Social CEO Appears Before Hague Tribunal To Be Tried For Crimes Against Humanity, Promote New Website Features</td>\n",
       "      <td>correct</td>\n",
       "    </tr>\n",
       "    <tr>\n",
       "      <th>1</th>\n",
       "      <td>4088</td>\n",
       "      <td>0</td>\n",
       "      <td>0</td>\n",
       "      <td>Flustered Mathematician Unable To Recommend Good Number</td>\n",
       "      <td>correct</td>\n",
       "      <td>0</td>\n",
       "      <td>0</td>\n",
       "      <td>Flustered Mathematician Unable To Recommend Good Number</td>\n",
       "      <td>correct</td>\n",
       "    </tr>\n",
       "    <tr>\n",
       "      <th>2</th>\n",
       "      <td>4564</td>\n",
       "      <td>1</td>\n",
       "      <td>1</td>\n",
       "      <td>Judge loosens Apple’s grip on app store in Epic decision</td>\n",
       "      <td>correct</td>\n",
       "      <td>1</td>\n",
       "      <td>0</td>\n",
       "      <td>Judge loosens Apple’s grip on app store in Epic decision</td>\n",
       "      <td>wrong</td>\n",
       "    </tr>\n",
       "    <tr>\n",
       "      <th>3</th>\n",
       "      <td>2075</td>\n",
       "      <td>1</td>\n",
       "      <td>1</td>\n",
       "      <td>Chinese ‘crackdown’ on tech IPOs could lead to US share delistings, experts warn</td>\n",
       "      <td>correct</td>\n",
       "      <td>1</td>\n",
       "      <td>1</td>\n",
       "      <td>Chinese ‘crackdown’ on tech IPOs could lead to US share delistings, experts warn</td>\n",
       "      <td>correct</td>\n",
       "    </tr>\n",
       "    <tr>\n",
       "      <th>4</th>\n",
       "      <td>3</td>\n",
       "      <td>0</td>\n",
       "      <td>1</td>\n",
       "      <td>Middle-Aged Woman Angrily Demanding Price Check Was Once Carefree Youth, Onlookers Speculate</td>\n",
       "      <td>wrong</td>\n",
       "      <td>0</td>\n",
       "      <td>0</td>\n",
       "      <td>Middle-Aged Woman Angrily Demanding Price Check Was Once Carefree Youth, Onlookers Speculate</td>\n",
       "      <td>correct</td>\n",
       "    </tr>\n",
       "  </tbody>\n",
       "</table>\n",
       "</div>"
      ],
      "text/plain": [
       "   index  y_test_nb  y_pred_nb  \\\n",
       "0   1941          0          0   \n",
       "1   4088          0          0   \n",
       "2   4564          1          1   \n",
       "3   2075          1          1   \n",
       "4      3          0          1   \n",
       "\n",
       "                                                                                                                title_x  \\\n",
       "0  Onion Social CEO Appears Before Hague Tribunal To Be Tried For Crimes Against Humanity, Promote New Website Features   \n",
       "1                                                               Flustered Mathematician Unable To Recommend Good Number   \n",
       "2                                                              Judge loosens Apple’s grip on app store in Epic decision   \n",
       "3                                      Chinese ‘crackdown’ on tech IPOs could lead to US share delistings, experts warn   \n",
       "4                          Middle-Aged Woman Angrily Demanding Price Check Was Once Carefree Youth, Onlookers Speculate   \n",
       "\n",
       "  nb_result  y_test_logreg  y_pred_logreg  \\\n",
       "0   correct              0              0   \n",
       "1   correct              0              0   \n",
       "2   correct              1              0   \n",
       "3   correct              1              1   \n",
       "4     wrong              0              0   \n",
       "\n",
       "                                                                                                                title_y  \\\n",
       "0  Onion Social CEO Appears Before Hague Tribunal To Be Tried For Crimes Against Humanity, Promote New Website Features   \n",
       "1                                                               Flustered Mathematician Unable To Recommend Good Number   \n",
       "2                                                              Judge loosens Apple’s grip on app store in Epic decision   \n",
       "3                                      Chinese ‘crackdown’ on tech IPOs could lead to US share delistings, experts warn   \n",
       "4                          Middle-Aged Woman Angrily Demanding Price Check Was Once Carefree Youth, Onlookers Speculate   \n",
       "\n",
       "  logreg_result  \n",
       "0       correct  \n",
       "1       correct  \n",
       "2         wrong  \n",
       "3       correct  \n",
       "4       correct  "
      ]
     },
     "execution_count": 10,
     "metadata": {},
     "output_type": "execute_result"
    }
   ],
   "source": [
    "df_comparison.head()"
   ]
  },
  {
   "cell_type": "code",
   "execution_count": 11,
   "id": "02c8a37c",
   "metadata": {
    "scrolled": true
   },
   "outputs": [
    {
     "data": {
      "text/plain": [
       "14"
      ]
     },
     "execution_count": 11,
     "metadata": {},
     "output_type": "execute_result"
    }
   ],
   "source": [
    "# number of rows where BOTH Naive Bayes and Log Reg predicted wrongly\n",
    "len(df_comparison[(df_comparison['nb_result']=='wrong') & (df_comparison['logreg_result']=='wrong')])"
   ]
  },
  {
   "cell_type": "code",
   "execution_count": 12,
   "id": "3db00800",
   "metadata": {},
   "outputs": [
    {
     "data": {
      "text/plain": [
       "79"
      ]
     },
     "execution_count": 12,
     "metadata": {},
     "output_type": "execute_result"
    }
   ],
   "source": [
    "# number of rows where Naive Bayes predicted correctly but Log Reg predicted wrongly\n",
    "len(df_comparison[(df_comparison['nb_result']=='correct') & (df_comparison['logreg_result']=='wrong')])"
   ]
  },
  {
   "cell_type": "code",
   "execution_count": 13,
   "id": "edf901d6",
   "metadata": {},
   "outputs": [
    {
     "data": {
      "text/plain": [
       "93"
      ]
     },
     "execution_count": 13,
     "metadata": {},
     "output_type": "execute_result"
    }
   ],
   "source": [
    "# number of rows where Log Reg predicted correctly but Naive Bayes predicted wrongly\n",
    "len(df_comparison[(df_comparison['nb_result']=='wrong') & (df_comparison['logreg_result']=='correct')])"
   ]
  },
  {
   "cell_type": "code",
   "execution_count": 14,
   "id": "aa6d0c84",
   "metadata": {},
   "outputs": [
    {
     "data": {
      "text/plain": [
       "107"
      ]
     },
     "execution_count": 14,
     "metadata": {},
     "output_type": "execute_result"
    }
   ],
   "source": [
    "# number of rows where Naive Bayes predicted wrongly\n",
    "len(df_comparison[df_comparison['nb_result']=='wrong'])"
   ]
  },
  {
   "cell_type": "code",
   "execution_count": 15,
   "id": "25febad7",
   "metadata": {},
   "outputs": [
    {
     "data": {
      "text/plain": [
       "93"
      ]
     },
     "execution_count": 15,
     "metadata": {},
     "output_type": "execute_result"
    }
   ],
   "source": [
    "# number of rows where Log Reg predicted wrongly\n",
    "len(df_comparison[df_comparison['logreg_result']=='wrong'])"
   ]
  },
  {
   "cell_type": "markdown",
   "id": "20f9b46e",
   "metadata": {},
   "source": [
    "### Comparison dataframe"
   ]
  },
  {
   "cell_type": "code",
   "execution_count": 16,
   "id": "1e765d80",
   "metadata": {},
   "outputs": [],
   "source": [
    "# some random cleaning \n",
    "df_comparison['subreddit'] = 'a'\n",
    "for i in range(len(df_comparison)):\n",
    "    if df_comparison.loc[i,'y_test_nb']==0:\n",
    "        df_comparison.loc[i,'subreddit'] = \"r/TheOnion\"\n",
    "    elif df_comparison.loc[i,'y_test_nb']==1:\n",
    "        df_comparison.loc[i,'subreddit'] = 'r/news'\n",
    "        \n",
    "df_comparison['title'] = df_comparison['title_x']\n",
    "df_comparison = df_comparison.drop(columns=[\n",
    "    'y_test_logreg','title_y','y_test_nb','title_x'\n",
    "])        "
   ]
  },
  {
   "cell_type": "code",
   "execution_count": 17,
   "id": "f8049ecd",
   "metadata": {},
   "outputs": [
    {
     "data": {
      "text/html": [
       "<div>\n",
       "<style scoped>\n",
       "    .dataframe tbody tr th:only-of-type {\n",
       "        vertical-align: middle;\n",
       "    }\n",
       "\n",
       "    .dataframe tbody tr th {\n",
       "        vertical-align: top;\n",
       "    }\n",
       "\n",
       "    .dataframe thead th {\n",
       "        text-align: right;\n",
       "    }\n",
       "</style>\n",
       "<table border=\"1\" class=\"dataframe\">\n",
       "  <thead>\n",
       "    <tr style=\"text-align: right;\">\n",
       "      <th></th>\n",
       "      <th>index</th>\n",
       "      <th>y_pred_nb</th>\n",
       "      <th>nb_result</th>\n",
       "      <th>y_pred_logreg</th>\n",
       "      <th>logreg_result</th>\n",
       "      <th>subreddit</th>\n",
       "      <th>title</th>\n",
       "    </tr>\n",
       "  </thead>\n",
       "  <tbody>\n",
       "    <tr>\n",
       "      <th>70</th>\n",
       "      <td>292</td>\n",
       "      <td>1</td>\n",
       "      <td>wrong</td>\n",
       "      <td>1</td>\n",
       "      <td>wrong</td>\n",
       "      <td>r/TheOnion</td>\n",
       "      <td>Software Indicates Missing Child Likely A Prostitute By Now</td>\n",
       "    </tr>\n",
       "    <tr>\n",
       "      <th>152</th>\n",
       "      <td>1866</td>\n",
       "      <td>1</td>\n",
       "      <td>wrong</td>\n",
       "      <td>1</td>\n",
       "      <td>wrong</td>\n",
       "      <td>r/TheOnion</td>\n",
       "      <td>Inclusive New Texas Bill Prevents Gun Sellers From Discriminating On Basis Of Background Check</td>\n",
       "    </tr>\n",
       "    <tr>\n",
       "      <th>164</th>\n",
       "      <td>721</td>\n",
       "      <td>1</td>\n",
       "      <td>wrong</td>\n",
       "      <td>1</td>\n",
       "      <td>wrong</td>\n",
       "      <td>r/TheOnion</td>\n",
       "      <td>Apple Introduces Eggplant Emoji Covered In Sores</td>\n",
       "    </tr>\n",
       "    <tr>\n",
       "      <th>181</th>\n",
       "      <td>4351</td>\n",
       "      <td>0</td>\n",
       "      <td>wrong</td>\n",
       "      <td>0</td>\n",
       "      <td>wrong</td>\n",
       "      <td>r/news</td>\n",
       "      <td>Charlie Kirk being asked about when 'we' get to use the guns.</td>\n",
       "    </tr>\n",
       "    <tr>\n",
       "      <th>211</th>\n",
       "      <td>3668</td>\n",
       "      <td>0</td>\n",
       "      <td>wrong</td>\n",
       "      <td>0</td>\n",
       "      <td>wrong</td>\n",
       "      <td>r/news</td>\n",
       "      <td>Molly Ball, author of this article, is TIME's National Political Correspondent. Previously, she covered U.S. politics for The Atlantic and Politico, and worked for newspapers in Nevada and Cambodia. She is the author of Pelosi, a bestselling biography of the first woman Speaker of the House.</td>\n",
       "    </tr>\n",
       "    <tr>\n",
       "      <th>235</th>\n",
       "      <td>3621</td>\n",
       "      <td>1</td>\n",
       "      <td>wrong</td>\n",
       "      <td>1</td>\n",
       "      <td>wrong</td>\n",
       "      <td>r/TheOnion</td>\n",
       "      <td>T.J. Miller Arrested For Alleged Fake Bomb Threat</td>\n",
       "    </tr>\n",
       "    <tr>\n",
       "      <th>250</th>\n",
       "      <td>4479</td>\n",
       "      <td>1</td>\n",
       "      <td>wrong</td>\n",
       "      <td>1</td>\n",
       "      <td>wrong</td>\n",
       "      <td>r/TheOnion</td>\n",
       "      <td>They Said What?!: Find Out What Wolfgang Puck, Surgeon General Jerome Adams, And Cynthia Nixon Have To Say</td>\n",
       "    </tr>\n",
       "    <tr>\n",
       "      <th>356</th>\n",
       "      <td>28</td>\n",
       "      <td>1</td>\n",
       "      <td>wrong</td>\n",
       "      <td>1</td>\n",
       "      <td>wrong</td>\n",
       "      <td>r/TheOnion</td>\n",
       "      <td>North Dakota Found To Be Harboring Nuclear Missiles</td>\n",
       "    </tr>\n",
       "    <tr>\n",
       "      <th>500</th>\n",
       "      <td>312</td>\n",
       "      <td>1</td>\n",
       "      <td>wrong</td>\n",
       "      <td>1</td>\n",
       "      <td>wrong</td>\n",
       "      <td>r/TheOnion</td>\n",
       "      <td>Gunman Kills 15 Potential Swing Voters</td>\n",
       "    </tr>\n",
       "    <tr>\n",
       "      <th>523</th>\n",
       "      <td>3124</td>\n",
       "      <td>1</td>\n",
       "      <td>wrong</td>\n",
       "      <td>1</td>\n",
       "      <td>wrong</td>\n",
       "      <td>r/TheOnion</td>\n",
       "      <td>NYC Opens $500 Million Decoy Subway Station To Catch Turnstile Jumpers</td>\n",
       "    </tr>\n",
       "    <tr>\n",
       "      <th>620</th>\n",
       "      <td>3468</td>\n",
       "      <td>0</td>\n",
       "      <td>wrong</td>\n",
       "      <td>0</td>\n",
       "      <td>wrong</td>\n",
       "      <td>r/news</td>\n",
       "      <td>Jill Murphy, Author Of 'The Worst Witch' and 'Five Minutes Peace,' Has Died At 72</td>\n",
       "    </tr>\n",
       "    <tr>\n",
       "      <th>779</th>\n",
       "      <td>2333</td>\n",
       "      <td>1</td>\n",
       "      <td>wrong</td>\n",
       "      <td>1</td>\n",
       "      <td>wrong</td>\n",
       "      <td>r/TheOnion</td>\n",
       "      <td>2 Associates Of Giuliani Indicted On Campaign Finance Charges</td>\n",
       "    </tr>\n",
       "    <tr>\n",
       "      <th>856</th>\n",
       "      <td>1706</td>\n",
       "      <td>0</td>\n",
       "      <td>wrong</td>\n",
       "      <td>0</td>\n",
       "      <td>wrong</td>\n",
       "      <td>r/news</td>\n",
       "      <td>I don't see anyone who can portray Dr. Cristina Yang the same way she did</td>\n",
       "    </tr>\n",
       "    <tr>\n",
       "      <th>945</th>\n",
       "      <td>1213</td>\n",
       "      <td>0</td>\n",
       "      <td>wrong</td>\n",
       "      <td>0</td>\n",
       "      <td>wrong</td>\n",
       "      <td>r/news</td>\n",
       "      <td>Biden to withdraw ATF pick David Chipman after resistance over gun control support</td>\n",
       "    </tr>\n",
       "  </tbody>\n",
       "</table>\n",
       "</div>"
      ],
      "text/plain": [
       "     index  y_pred_nb nb_result  y_pred_logreg logreg_result   subreddit  \\\n",
       "70     292          1     wrong              1         wrong  r/TheOnion   \n",
       "152   1866          1     wrong              1         wrong  r/TheOnion   \n",
       "164    721          1     wrong              1         wrong  r/TheOnion   \n",
       "181   4351          0     wrong              0         wrong      r/news   \n",
       "211   3668          0     wrong              0         wrong      r/news   \n",
       "235   3621          1     wrong              1         wrong  r/TheOnion   \n",
       "250   4479          1     wrong              1         wrong  r/TheOnion   \n",
       "356     28          1     wrong              1         wrong  r/TheOnion   \n",
       "500    312          1     wrong              1         wrong  r/TheOnion   \n",
       "523   3124          1     wrong              1         wrong  r/TheOnion   \n",
       "620   3468          0     wrong              0         wrong      r/news   \n",
       "779   2333          1     wrong              1         wrong  r/TheOnion   \n",
       "856   1706          0     wrong              0         wrong      r/news   \n",
       "945   1213          0     wrong              0         wrong      r/news   \n",
       "\n",
       "                                                                                                                                                                                                                                                                                                    title  \n",
       "70                                                                                                                                                                                                                                            Software Indicates Missing Child Likely A Prostitute By Now  \n",
       "152                                                                                                                                                                                                        Inclusive New Texas Bill Prevents Gun Sellers From Discriminating On Basis Of Background Check  \n",
       "164                                                                                                                                                                                                                                                      Apple Introduces Eggplant Emoji Covered In Sores  \n",
       "181                                                                                                                                                                                                                                         Charlie Kirk being asked about when 'we' get to use the guns.  \n",
       "211  Molly Ball, author of this article, is TIME's National Political Correspondent. Previously, she covered U.S. politics for The Atlantic and Politico, and worked for newspapers in Nevada and Cambodia. She is the author of Pelosi, a bestselling biography of the first woman Speaker of the House.  \n",
       "235                                                                                                                                                                                                                                                     T.J. Miller Arrested For Alleged Fake Bomb Threat  \n",
       "250                                                                                                                                                                                            They Said What?!: Find Out What Wolfgang Puck, Surgeon General Jerome Adams, And Cynthia Nixon Have To Say  \n",
       "356                                                                                                                                                                                                                                                   North Dakota Found To Be Harboring Nuclear Missiles  \n",
       "500                                                                                                                                                                                                                                                                Gunman Kills 15 Potential Swing Voters  \n",
       "523                                                                                                                                                                                                                                NYC Opens $500 Million Decoy Subway Station To Catch Turnstile Jumpers  \n",
       "620                                                                                                                                                                                                                     Jill Murphy, Author Of 'The Worst Witch' and 'Five Minutes Peace,' Has Died At 72  \n",
       "779                                                                                                                                                                                                                                         2 Associates Of Giuliani Indicted On Campaign Finance Charges  \n",
       "856                                                                                                                                                                                                                             I don't see anyone who can portray Dr. Cristina Yang the same way she did  \n",
       "945                                                                                                                                                                                                                    Biden to withdraw ATF pick David Chipman after resistance over gun control support  "
      ]
     },
     "execution_count": 17,
     "metadata": {},
     "output_type": "execute_result"
    }
   ],
   "source": [
    "# dataframe showing posts where BOTH Naive Bayes and Log Reg predicted WRONGLY. \n",
    "df_comparison[(df_comparison['nb_result']=='wrong') & (df_comparison['logreg_result']=='wrong')]"
   ]
  },
  {
   "cell_type": "code",
   "execution_count": null,
   "id": "6afa04af",
   "metadata": {},
   "outputs": [],
   "source": []
  }
 ],
 "metadata": {
  "kernelspec": {
   "display_name": "Python 3",
   "language": "python",
   "name": "python3"
  },
  "language_info": {
   "codemirror_mode": {
    "name": "ipython",
    "version": 3
   },
   "file_extension": ".py",
   "mimetype": "text/x-python",
   "name": "python",
   "nbconvert_exporter": "python",
   "pygments_lexer": "ipython3",
   "version": "3.8.8"
  }
 },
 "nbformat": 4,
 "nbformat_minor": 5
}
