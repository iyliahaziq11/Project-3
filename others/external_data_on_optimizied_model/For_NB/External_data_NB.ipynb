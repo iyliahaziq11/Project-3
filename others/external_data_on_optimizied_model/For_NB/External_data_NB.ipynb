{
 "cells": [
  {
   "cell_type": "markdown",
   "id": "8e038058",
   "metadata": {},
   "source": [
    "# Import Libraries"
   ]
  },
  {
   "cell_type": "code",
   "execution_count": 2,
   "id": "1127fe3d",
   "metadata": {},
   "outputs": [],
   "source": [
    "import matplotlib.pyplot as plt\n",
    "import seaborn as sns\n",
    "import pandas as pd\n",
    "import numpy as np\n",
    "import requests\n",
    "import re\n",
    "import json\n",
    "import time\n",
    "import datetime\n",
    "import math\n",
    "import nltk\n",
    "import string\n",
    "\n",
    "\n",
    "from psaw import PushshiftAPI\n",
    "import praw\n",
    "\n",
    "\n",
    "from sklearn.linear_model import LogisticRegression\n",
    "from sklearn.preprocessing import OneHotEncoder, PolynomialFeatures, StandardScaler, MinMaxScaler\n",
    "from sklearn.model_selection import cross_val_score, train_test_split, cross_val_predict\n",
    "from sklearn.model_selection import GridSearchCV\n",
    "from sklearn.metrics import classification_report, confusion_matrix, precision_score, recall_score, f1_score, accuracy_score\n",
    "from sklearn.metrics import ConfusionMatrixDisplay, plot_confusion_matrix\n",
    "from sklearn.neighbors import KNeighborsClassifier\n",
    "from sklearn.feature_extraction.text import CountVectorizer, TfidfVectorizer\n",
    "from sklearn.naive_bayes import MultinomialNB, BernoulliNB \n",
    "\n",
    "%matplotlib inline\n",
    "pd.set_option('display.max_rows', None)\n",
    "pd.set_option('display.max_columns', None)\n",
    "pd.set_option('display.max_colwidth', None)\n",
    "\n",
    "\n",
    "\n",
    "import warnings\n",
    "warnings.filterwarnings('ignore')"
   ]
  },
  {
   "cell_type": "markdown",
   "id": "18fdb7f4",
   "metadata": {},
   "source": [
    "---"
   ]
  },
  {
   "cell_type": "markdown",
   "id": "65f52f6c",
   "metadata": {},
   "source": [
    "# Pre-processing text data"
   ]
  },
  {
   "cell_type": "code",
   "execution_count": 9,
   "id": "12fd3cac",
   "metadata": {},
   "outputs": [],
   "source": [
    "df_news_testext = pd.read_csv('/Users/mohammadiyliahaziq/Desktop/GA/dsi25-workspace/project_3/others/external_data_on_optimizied_model/For_LogReg/df_news.csv')\n",
    "df_onion_testext = pd.read_csv('/Users/mohammadiyliahaziq/Desktop/GA/dsi25-workspace/project_3/others/external_data_on_optimizied_model/For_LogReg/df_onion.csv')\n",
    "df_news_testext['subreddit'] = 1\n",
    "df_onion_testext['subreddit'] = 0\n",
    "\n",
    "df_combined = pd.concat((df_onion_testext.drop(columns=['Unnamed: 0','score','selftext','created_utc','num_comments']),\n",
    "                        df_news_testext.drop(columns=['Unnamed: 0','score','selftext','created_utc','num_comments'])),\n",
    "                        axis=0)"
   ]
  },
  {
   "cell_type": "code",
   "execution_count": 10,
   "id": "29ccd970",
   "metadata": {},
   "outputs": [],
   "source": []
  },
  {
   "cell_type": "markdown",
   "id": "f6b225b9",
   "metadata": {},
   "source": [
    "### Steps to pre-process text data:\n",
    "1. remove punctuations\n",
    "2. tokenize\n",
    "3. remove stopwords\n",
    "4. stem / lemmatize"
   ]
  },
  {
   "cell_type": "code",
   "execution_count": 115,
   "id": "41e4fe85",
   "metadata": {},
   "outputs": [],
   "source": [
    "stopword = nltk.corpus.stopwords.words('english')\n",
    "puncts = string.punctuation\n",
    "wn = nltk.WordNetLemmatizer()\n",
    "ps = nltk.PorterStemmer()"
   ]
  },
  {
   "cell_type": "code",
   "execution_count": 116,
   "id": "69272970",
   "metadata": {},
   "outputs": [],
   "source": [
    "# function to clean text data so that it can be ready for modelling\n",
    "def clean_text(text):\n",
    "    # 1. remove punctuations\n",
    "    title = ''.join([char for char in text if char not in puncts])\n",
    "    # 2. tokenize\n",
    "    my_list = re.split('\\W+', title)\n",
    "    my_list = list(filter(None, my_list))\n",
    "    # 3. remove stop word\n",
    "    my_list = [char.lower() for char in my_list if char.lower() not in stopword]\n",
    "    # 4. lemmatize\n",
    "    my_list = [wn.lemmatize(word) for word in my_list]\n",
    "    \n",
    "    return my_list"
   ]
  },
  {
   "cell_type": "markdown",
   "id": "7c9e77e6",
   "metadata": {},
   "source": [
    "### Converting target variable subreddit into 0 and 1 binary form"
   ]
  },
  {
   "cell_type": "code",
   "execution_count": 117,
   "id": "d05651af",
   "metadata": {},
   "outputs": [],
   "source": [
    "df_combined['subreddit'].replace({'news':1,\n",
    "                                 'TheOnion':0}, inplace=True)"
   ]
  },
  {
   "cell_type": "markdown",
   "id": "40190abd",
   "metadata": {},
   "source": [
    "# Vectorizing textual data using 3 methods, followed by modelling\n",
    "1. CountVectorizer\n",
    "    - Multinomial Naive Bayes\n",
    "    - Bernoulli Naive Bayes\n",
    "2. N-Grams\n",
    "    - Multinomial Naive Bayes\n",
    "    - Bernoulli Naive Bayes\n",
    "3. TF-IDF\n",
    "    - Multinomial Naive Bayes\n",
    "    - Bernoulli Naive Bayes"
   ]
  },
  {
   "cell_type": "markdown",
   "id": "da0f16a0",
   "metadata": {},
   "source": [
    "## Defining functions that will be used later on"
   ]
  },
  {
   "cell_type": "code",
   "execution_count": 118,
   "id": "93054972",
   "metadata": {},
   "outputs": [],
   "source": [
    "# function to fit model into a chose classifier\n",
    "\n",
    "def modelling(classifier):\n",
    "    \n",
    "    clf = classifier\n",
    "    clf.fit(X_train, y_train)\n",
    "    y_pred = clf.predict(X_test)\n",
    "    \n",
    "    accuracy = np.round(accuracy_score(y_test, y_pred),3)\n",
    "    f1 = np.round(f1_score(y_test,y_pred),3)\n",
    "\n",
    "    print(\"Accuracy: {}\".format(accuracy))\n",
    "    print(\"F1 score: {}\".format(f1))"
   ]
  },
  {
   "cell_type": "code",
   "execution_count": 119,
   "id": "7c85b19c",
   "metadata": {
    "scrolled": false
   },
   "outputs": [],
   "source": [
    "# function to plot heatmap with the current X_train, y_train, y_test, y_pred\n",
    "# this will be used throughout\n",
    "\n",
    "def plot_cm(title:str, clf):\n",
    "    \n",
    "    fig ,ax = plt.subplots(1,2, figsize=(10,5))\n",
    "    fig.suptitle((\"Confusion Matrix \\n\" + str(title)), fontsize=20)\n",
    "    fig.tight_layout(pad = 3)\n",
    "\n",
    "    sns.heatmap(\n",
    "        confusion_matrix(y_train, clf.predict(X_train)),\n",
    "        annot= True,\n",
    "        square = True,\n",
    "        linecolor= \"Black\",\n",
    "        linewidths=1,\n",
    "        ax=ax[0],\n",
    "        fmt='g',\n",
    "        cmap ='Blues',\n",
    "        annot_kws={\"size\": 15},\n",
    "        cbar=False\n",
    "\n",
    "    )\n",
    "    ax[0].set_title(\"Train Set\", fontsize=15);\n",
    "    ax[0].set_xticklabels(['r/TheOnion','news'], fontsize=10)\n",
    "    ax[0].set_yticklabels(['r/TheOnion','news'], fontsize=10)\n",
    "\n",
    "\n",
    "    sns.heatmap(\n",
    "        confusion_matrix(y_test, y_pred),\n",
    "        annot= True,\n",
    "        square = True,\n",
    "        linecolor= \"Black\",\n",
    "        linewidths=1,\n",
    "        ax=ax[1],\n",
    "        fmt='g',\n",
    "        cmap ='BuGn',\n",
    "        annot_kws={\"size\": 15},\n",
    "        cbar=False\n",
    "    )\n",
    "    ax[1].set_title(\"Test Set\", fontsize=15);\n",
    "    ax[1].set_xticklabels(['r/TheOnion','news'], fontsize=10)\n",
    "    ax[1].set_yticklabels(['r/TheOnion','news'], fontsize=10);\n"
   ]
  },
  {
   "cell_type": "code",
   "execution_count": 120,
   "id": "ac9dc081",
   "metadata": {},
   "outputs": [],
   "source": [
    "# function to plot barplot of vectorizing results\n",
    "\n",
    "def plot_word_freq(X_counts, vectorizer, num_rows, name=\"\"):\n",
    "    '''\n",
    "    vectorizer : count_vect or tfidf_vect\n",
    "    name : name of vectorizer\n",
    "    num_rows : num of rows to plot\n",
    "    '''\n",
    "    scale = num_rows/25\n",
    "    # Converting ngram results into dataframe\n",
    "    df = pd.DataFrame(X_counts.toarray())\n",
    "    df.columns = vectorizer.get_feature_names()\n",
    "    # adding up sum of occurences for each bigram words\n",
    "    df_2 = pd.DataFrame(df.sum()).reset_index()\n",
    "    df_2.columns =['word', 'frequency of occurence']\n",
    "    # sorting bigram words in descending order\n",
    "    df_2.sort_values(by='frequency of occurence', ascending=False, inplace=True)\n",
    "    # plotting bar chart to visualise frequency of words\n",
    "    x = df_2[df_2['frequency of occurence']>2]\n",
    "\n",
    "    plt.figure(figsize=(14*(scale),8*(scale)))\n",
    "    sns.barplot(df_2['frequency of occurence'][0:num_rows],df_2['word'][0:num_rows], orient='h')\n",
    "    plt.xticks(rotation = 80);\n",
    "    plt.title('Top ' + str(num_rows) + '\\nwords with highest ' + str(name) + ' scores', fontsize=15);"
   ]
  },
  {
   "cell_type": "code",
   "execution_count": 121,
   "id": "9564ec2a",
   "metadata": {},
   "outputs": [],
   "source": [
    "# dataframe to keep track of the scores for the 3 methods of vectorizing words\n",
    "df_score_comparison = pd.DataFrame(index = ['Accuracy score', 'F1-score']) \n",
    "# df_score_comparison.index = ['Accuracy score', 'F1-score']\n"
   ]
  },
  {
   "cell_type": "markdown",
   "id": "99bfb40b",
   "metadata": {},
   "source": [
    "___"
   ]
  },
  {
   "cell_type": "markdown",
   "id": "7ebe6980",
   "metadata": {},
   "source": [
    "# Hyperparameter Tuning\n",
    "- From the above results, we see that the best score obtained was for Multinomial NB using CountVectorizer to vectorize the word text.\n",
    "- Hence we proceed with hyperparameter tuning of Multinomial NB using Count Vectorizer / Bag of words"
   ]
  },
  {
   "cell_type": "code",
   "execution_count": 122,
   "id": "25491e91",
   "metadata": {},
   "outputs": [
    {
     "name": "stdout",
     "output_type": "stream",
     "text": [
      "(5000, 10731)\n",
      "Fitting 5 folds for each of 12 candidates, totalling 60 fits\n"
     ]
    },
    {
     "data": {
      "text/plain": [
       "GridSearchCV(cv=5, estimator=MultinomialNB(),\n",
       "             param_grid={'alpha': [0.5, 1, 2, 3, 4, 5],\n",
       "                         'fit_prior': [True, False]},\n",
       "             verbose=1)"
      ]
     },
     "execution_count": 122,
     "metadata": {},
     "output_type": "execute_result"
    }
   ],
   "source": [
    "count_vect = CountVectorizer(analyzer=clean_text)\n",
    "X_counts = count_vect.fit_transform(df_combined['title'])\n",
    "print(X_counts.shape)\n",
    "\n",
    "X_train, X_test, y_train, y_test = train_test_split(X_counts, df_combined['subreddit'], \n",
    "                                                    test_size=0.2, random_state=24)\n",
    "\n",
    "\n",
    "clf = MultinomialNB()\n",
    "clf = GridSearchCV(estimator=clf, param_grid={'alpha':[0.5,1,2,3,4,5], 'fit_prior':[True, False]},\n",
    "                  verbose = 1, cv =5, return_train_score = False)\n",
    "\n",
    "clf.fit(X_train, y_train)"
   ]
  },
  {
   "cell_type": "markdown",
   "id": "758d8c82",
   "metadata": {},
   "source": [
    "- From the GridSearchCV, the score did not improve much from the default hyperparameters.\n",
    "- The best parameters seem to be alpha =1 and fit_prior = False\n",
    "- As the value of alpha refers to the amount of Laplace Smoothing, the optimal value of 1 seems to be right, considering the frequency of words occuring is in the region of 0-200. Too high alpha will result in very biased model as the model will rely too heavily on the alpha value instead of the actual probability of each word.\n",
    "- The graph below shows how the accuracy score changes as we vary the alpha value"
   ]
  },
  {
   "cell_type": "code",
   "execution_count": 123,
   "id": "2ff96ff1",
   "metadata": {},
   "outputs": [
    {
     "name": "stdout",
     "output_type": "stream",
     "text": [
      "0.8772499999999999\n",
      "{'alpha': 0.5, 'fit_prior': True}\n"
     ]
    }
   ],
   "source": [
    "print(clf.best_score_)\n",
    "print(clf.best_params_)"
   ]
  },
  {
   "cell_type": "markdown",
   "id": "c4226ccd",
   "metadata": {},
   "source": [
    "- We apply the best parameters from GridSearchCV to our best model which was earlier found to be MultinomialNB\n",
    "- We are able to attain a fairly high accuracy score of 0.89\n",
    "- We also analyze the top words in r/news and r/TheOnion respectively below using GridSearchCV"
   ]
  },
  {
   "cell_type": "code",
   "execution_count": 124,
   "id": "52d77e96",
   "metadata": {},
   "outputs": [
    {
     "name": "stdout",
     "output_type": "stream",
     "text": [
      "0.97225\n",
      "0.893\n"
     ]
    }
   ],
   "source": [
    "# we apply the best parameters from GridSearchCV to our best model which was earlier found to be MultinomialNB\n",
    "clf_gridsearch = MultinomialNB(alpha = 1, fit_prior=False)\n",
    "clf_gridsearch.fit(X_train, y_train)\n",
    "y_pred = clf_gridsearch.predict(X_test)\n",
    "print(clf_gridsearch.score(X_train, y_train))\n",
    "print(clf_gridsearch.score(X_test, y_test))"
   ]
  },
  {
   "cell_type": "markdown",
   "id": "5a23e1bf",
   "metadata": {},
   "source": [
    "___"
   ]
  },
  {
   "cell_type": "markdown",
   "id": "9e0f773e",
   "metadata": {},
   "source": [
    "# Testing our optimized model with additional external unseen data\n",
    "- We attempt to use our model on more unseen datasets, webscraped from the 2 respective subreddits\n",
    "- Top 1000 posts from r/news\n",
    "- Top 1000 posts from r/TheOnion"
   ]
  },
  {
   "cell_type": "code",
   "execution_count": 13,
   "id": "e00ccc1a",
   "metadata": {},
   "outputs": [],
   "source": [
    "df_news_testext = pd.read_csv('/Users/mohammadiyliahaziq/Desktop/GA/dsi25-workspace/project_3/others/external_data_on_optimizied_model/For_LogReg/df_news.csv')\n",
    "df_onion_testext = pd.read_csv('/Users/mohammadiyliahaziq/Desktop/GA/dsi25-workspace/project_3/others/external_data_on_optimizied_model/For_LogReg/df_onion.csv')\n",
    "df_news_testext['subreddit'] = 1\n",
    "df_onion_testext['subreddit'] = 0\n",
    "\n",
    "df_combined = pd.concat((df_onion_testext.drop(columns=['Unnamed: 0','score','selftext','created_utc','num_comments']),\n",
    "                        df_news_testext.drop(columns=['Unnamed: 0','score','selftext','created_utc','num_comments'])),\n",
    "                        axis=0)\n",
    "\n",
    "df_combined = df_combined.sample(frac=1).reset_index(drop=True)"
   ]
  },
  {
   "cell_type": "markdown",
   "id": "592ffbcb",
   "metadata": {},
   "source": [
    "**Test our best model on the external datasets**"
   ]
  },
  {
   "cell_type": "code",
   "execution_count": 127,
   "id": "44d2ecb1",
   "metadata": {},
   "outputs": [
    {
     "name": "stdout",
     "output_type": "stream",
     "text": [
      "(1000, 10731)\n",
      "(1000,)\n"
     ]
    }
   ],
   "source": [
    "# count_vect has been optimized and fitted with training set data/vocab\n",
    "# we just need to transform our external dataset onto the fitted count_vect\n",
    "X_counts = count_vect.transform(df_combined['title'])\n",
    "print(X_counts.shape)\n",
    "X_test = X_counts\n",
    "y_test = df_combined['subreddit']\n",
    "print(y_test.shape)\n",
    "y_pred = clf_gridsearch.predict(X_test)"
   ]
  },
  {
   "cell_type": "code",
   "execution_count": 128,
   "id": "d1271184",
   "metadata": {},
   "outputs": [
    {
     "data": {
      "image/png": "[encoded data removed]",
      "text/plain": [
       "<Figure size 648x360 with 1 Axes>"
      ]
     },
     "metadata": {
      "needs_background": "light"
     },
     "output_type": "display_data"
    }
   ],
   "source": [
    "# plotting the score of our unseen data\n",
    "accuracy_score(y_test, y_pred)\n",
    "confusion_matrix(y_test, y_pred)\n",
    "\n",
    "plt.figure(figsize=(9,5))\n",
    "sns.heatmap(\n",
    "    confusion_matrix(y_test, y_pred),\n",
    "    annot= True,\n",
    "    square = True,\n",
    "    linecolor= \"Black\",\n",
    "    linewidths=1,\n",
    "    fmt='g',\n",
    "    cmap ='Blues',\n",
    "    annot_kws={\"size\": 15},\n",
    "    cbar=False,\n",
    "    xticklabels=['TheOnion', 'news'],\n",
    "    yticklabels=['TheOnion', 'news'],\n",
    ")\n",
    "plt.xticks(fontsize=14)\n",
    "plt.yticks(fontsize=14)\n",
    "plt.title('Confusion Matrix\\n for 1000 unseen posts', fontsize=16);"
   ]
  },
  {
   "cell_type": "code",
   "execution_count": 131,
   "id": "78be1578",
   "metadata": {},
   "outputs": [
    {
     "data": {
      "image/png": "[encoded data removed]",
      "text/plain": [
       "<Figure size 806.4x460.8 with 1 Axes>"
      ]
     },
     "metadata": {
      "needs_background": "light"
     },
     "output_type": "display_data"
    }
   ],
   "source": [
    "plot_word_freq(X_counts, count_vect, 20)"
   ]
  },
  {
   "cell_type": "code",
   "execution_count": 137,
   "id": "46d1ed80",
   "metadata": {},
   "outputs": [
    {
     "data": {
      "image/png": "[encoded data removed]",
      "text/plain": [
       "<Figure size 806.4x460.8 with 1 Axes>"
      ]
     },
     "metadata": {
      "needs_background": "light"
     },
     "output_type": "display_data"
    }
   ],
   "source": [
    "count_vect = CountVectorizer(analyzer=clean_text)\n",
    "X_counts = count_vect.fit_transform(df_onion_testext['title'][0:500])\n",
    "X_counts.shape\n",
    "\n",
    "plot_word_freq(X_counts, count_vect, 20)\n",
    "plt.title(\"Top 20 words from r/TheOnion posts\", fontsize=16);"
   ]
  },
  {
   "cell_type": "code",
   "execution_count": 138,
   "id": "1dde4d31",
   "metadata": {},
   "outputs": [
    {
     "data": {
      "image/png": "[encoded data removed]",
      "text/plain": [
       "<Figure size 806.4x460.8 with 1 Axes>"
      ]
     },
     "metadata": {
      "needs_background": "light"
     },
     "output_type": "display_data"
    }
   ],
   "source": [
    "count_vect = CountVectorizer(analyzer=clean_text)\n",
    "X_counts = count_vect.fit_transform(df_news_testext['title'][0:500])\n",
    "X_counts.shape\n",
    "\n",
    "plot_word_freq(X_counts, count_vect, 20)\n",
    "plt.title(\"Top 20 words from r/news posts\", fontsize=16);"
   ]
  }
 ],
 "metadata": {
  "kernelspec": {
   "display_name": "Python 3",
   "language": "python",
   "name": "python3"
  },
  "language_info": {
   "codemirror_mode": {
    "name": "ipython",
    "version": 3
   },
   "file_extension": ".py",
   "mimetype": "text/x-python",
   "name": "python",
   "nbconvert_exporter": "python",
   "pygments_lexer": "ipython3",
   "version": "3.8.8"
  }
 },
 "nbformat": 4,
 "nbformat_minor": 5
}
