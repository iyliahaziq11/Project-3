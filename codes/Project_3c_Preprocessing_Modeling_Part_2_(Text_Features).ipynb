{
 "cells": [
  {
   "cell_type": "markdown",
   "id": "8e038058",
   "metadata": {},
   "source": [
    "# Import Libraries"
   ]
  },
  {
   "cell_type": "code",
   "execution_count": 1,
   "id": "1127fe3d",
   "metadata": {},
   "outputs": [],
   "source": [
    "import matplotlib.pyplot as plt\n",
    "import seaborn as sns\n",
    "import pandas as pd\n",
    "import numpy as np\n",
    "import time\n",
    "import datetime\n",
    "import math\n",
    "import nltk\n",
    "import string\n",
    "import re\n",
    "\n",
    "\n",
    "from sklearn.linear_model import LogisticRegression\n",
    "from sklearn.preprocessing import OneHotEncoder, PolynomialFeatures, StandardScaler, MinMaxScaler\n",
    "from sklearn.model_selection import cross_val_score, train_test_split, cross_val_predict\n",
    "from sklearn.model_selection import GridSearchCV\n",
    "from sklearn.metrics import classification_report, confusion_matrix, precision_score, recall_score, f1_score, accuracy_score\n",
    "from sklearn.metrics import ConfusionMatrixDisplay, plot_confusion_matrix\n",
    "from sklearn.neighbors import KNeighborsClassifier\n",
    "from sklearn.feature_extraction.text import CountVectorizer, TfidfVectorizer\n",
    "from sklearn.naive_bayes import MultinomialNB, BernoulliNB \n",
    "from sklearn.pipeline import make_pipeline, Pipeline\n",
    "from sklearn.compose import ColumnTransformer\n",
    "\n",
    "%matplotlib inline\n",
    "pd.set_option('display.max_rows', None)\n",
    "pd.set_option('display.max_columns', None)\n",
    "pd.set_option('display.max_colwidth', None)\n",
    "\n",
    "\n",
    "\n",
    "import warnings\n",
    "warnings.filterwarnings('ignore')"
   ]
  },
  {
   "cell_type": "markdown",
   "id": "18fdb7f4",
   "metadata": {},
   "source": [
    "---"
   ]
  },
  {
   "cell_type": "markdown",
   "id": "65f52f6c",
   "metadata": {},
   "source": [
    "# 1. Pre-processing text data"
   ]
  },
  {
   "cell_type": "code",
   "execution_count": 2,
   "id": "bca8be2b",
   "metadata": {
    "scrolled": true
   },
   "outputs": [],
   "source": [
    "# import dataset that has been cleaned in Project_3b\n",
    "df_combined = pd.read_csv('../data/df_for_modelling_top2500.csv')\n",
    "df_combined = df_combined.drop(columns='Unnamed: 0')"
   ]
  },
  {
   "cell_type": "markdown",
   "id": "7c9e77e6",
   "metadata": {},
   "source": [
    "## 1a. Converting target variable subreddit into 0 and 1 binary form"
   ]
  },
  {
   "cell_type": "code",
   "execution_count": 3,
   "id": "d05651af",
   "metadata": {},
   "outputs": [],
   "source": [
    "df_combined['subreddit'].replace({'news':1,\n",
    "                                 'TheOnion':0}, inplace=True)"
   ]
  },
  {
   "cell_type": "markdown",
   "id": "f6b225b9",
   "metadata": {},
   "source": [
    "### Steps to pre-process text data:\n",
    "1. remove punctuations\n",
    "2. tokenize\n",
    "3. remove stopwords\n",
    "4. stem / lemmatize\n",
    "\n",
    "We will create a function `clean_text` to do all the above steps"
   ]
  },
  {
   "cell_type": "code",
   "execution_count": 4,
   "id": "41e4fe85",
   "metadata": {},
   "outputs": [],
   "source": [
    "stopword = nltk.corpus.stopwords.words('english')\n",
    "puncts = string.punctuation\n",
    "wn = nltk.WordNetLemmatizer()\n",
    "ps = nltk.PorterStemmer()"
   ]
  },
  {
   "cell_type": "code",
   "execution_count": 5,
   "id": "69272970",
   "metadata": {},
   "outputs": [],
   "source": [
    "# function to clean text data so that it can be ready for modelling\n",
    "def clean_text(text):\n",
    "    # create numberlist\n",
    "    mylist=[]\n",
    "    for i in list(range(0,10)):\n",
    "        mylist.append(str(i))\n",
    "    \n",
    "    # 1. remove punctuations only\n",
    "    title = ''.join([char for char in text if (char not in puncts)])\n",
    "    # 1b. remove punctuations and numbers\n",
    "#     title = ''.join([char for char in text if (char not in puncts) and (char not in mylist)])\n",
    "    \n",
    "    # 2. tokenize\n",
    "    my_list = re.split('\\W+', title)\n",
    "    my_list = list(filter(None, my_list))\n",
    "    # 3. remove stop word\n",
    "    my_list = [char.lower() for char in my_list if char.lower() not in stopword]\n",
    "    # 4. lemmatize\n",
    "    my_list = [wn.lemmatize(word) for word in my_list]\n",
    "    \n",
    "    return my_list"
   ]
  },
  {
   "cell_type": "markdown",
   "id": "da0f16a0",
   "metadata": {},
   "source": [
    "## Defining functions that will be used later on"
   ]
  },
  {
   "cell_type": "code",
   "execution_count": 6,
   "id": "7c85b19c",
   "metadata": {
    "scrolled": false
   },
   "outputs": [],
   "source": [
    "# function to plot heatmap with the current X_train, y_train, y_test, y_pred\n",
    "# this will be used throughout\n",
    "\n",
    "def plot_cm(title:str, clf):\n",
    "    \n",
    "    fig ,ax = plt.subplots(1,2, figsize=(10,5))\n",
    "    fig.suptitle((\"Confusion Matrix \\n\" + str(title)), fontsize=20)\n",
    "    fig.tight_layout(pad = 3)\n",
    "\n",
    "    sns.heatmap(\n",
    "        confusion_matrix(y_train, clf.predict(X_train)),\n",
    "        annot= True,\n",
    "        square = True,\n",
    "        linecolor= \"Black\",\n",
    "        linewidths=1,\n",
    "        ax=ax[0],\n",
    "        fmt='g',\n",
    "        cmap ='Blues',\n",
    "        annot_kws={\"size\": 15},\n",
    "        cbar=False\n",
    "\n",
    "    )\n",
    "    ax[0].set_title(\"Train Set\", fontsize=15);\n",
    "    ax[0].set_xlabel(\"Predicted\", fontsize=13);\n",
    "    ax[0].set_ylabel(\"Actual\", fontsize=13);\n",
    "    ax[0].set_xticklabels(['r/TheOnion','r/news'], fontsize=10)\n",
    "    ax[0].set_yticklabels(['r/TheOnion','r/news'], fontsize=10)\n",
    "\n",
    "\n",
    "    sns.heatmap(\n",
    "        confusion_matrix(y_test, y_pred),\n",
    "        annot= True,\n",
    "        square = True,\n",
    "        linecolor= \"Black\",\n",
    "        linewidths=1,\n",
    "        ax=ax[1],\n",
    "        fmt='g',\n",
    "        cmap ='BuGn',\n",
    "        annot_kws={\"size\": 15},\n",
    "        cbar=False\n",
    "    )\n",
    "    ax[1].set_title(\"Test Set\", fontsize=15);\n",
    "    ax[1].set_xlabel(\"Predicted\", fontsize=13);\n",
    "    ax[1].set_ylabel(\"Actual\", fontsize=13);\n",
    "    ax[1].set_xticklabels(['r/TheOnion','r/news'], fontsize=10)\n",
    "    ax[1].set_yticklabels(['r/TheOnion','r/news'], fontsize=10);\n"
   ]
  },
  {
   "cell_type": "code",
   "execution_count": 7,
   "id": "ac9dc081",
   "metadata": {},
   "outputs": [],
   "source": [
    "# function to plot barplot of vectorizing results\n",
    "\n",
    "def plot_word_freq(X_counts, vectorizer, num_rows, name=\"\"):\n",
    "    '''\n",
    "    vectorizer : count_vect or tfidf_vect\n",
    "    name : name of vectorizer\n",
    "    num_rows : num of rows to plot\n",
    "    '''\n",
    "    scale = num_rows/25\n",
    "    # Converting ngram results into dataframe\n",
    "    df = pd.DataFrame(X_counts.toarray())\n",
    "    df.columns = vectorizer.get_feature_names()\n",
    "    # adding up sum of occurences for each bigram words\n",
    "    df_2 = pd.DataFrame(df.sum()).reset_index()\n",
    "    df_2.columns =['word', 'frequency of occurence']\n",
    "    # sorting bigram words in descending order\n",
    "    df_2.sort_values(by='frequency of occurence', ascending=False, inplace=True)\n",
    "    # plotting bar chart to visualise frequency of words\n",
    "    x = df_2[df_2['frequency of occurence']>2]\n",
    "\n",
    "    plt.figure(figsize=(14*(scale),8*(scale)))\n",
    "    sns.barplot(df_2['frequency of occurence'][0:num_rows],df_2['word'][0:num_rows], orient='h')\n",
    "    plt.xticks(rotation = 80);\n",
    "    plt.title('Top ' + str(num_rows) + '\\nwords with highest ' + str(name) + ' scores', fontsize=15);"
   ]
  },
  {
   "cell_type": "markdown",
   "id": "ea428059",
   "metadata": {},
   "source": [
    "___"
   ]
  },
  {
   "cell_type": "markdown",
   "id": "40190abd",
   "metadata": {},
   "source": [
    "## 1b. Vectorizing textual data using 3 methods, followed by modelling\n",
    "1. CountVectorizer\n",
    "    - Multinomial Naive Bayes\n",
    "    - Bernoulli Naive Bayes\n",
    "2. N-Grams\n",
    "    - Multinomial Naive Bayes\n",
    "    - Bernoulli Naive Bayes\n",
    "3. TF-IDF\n",
    "    - Multinomial Naive Bayes\n",
    "    - Bernoulli Naive Bayes\n",
    "    \n",
    "We will use Pipeline and GridSearchCV to run these variations and decide on the best model"
   ]
  },
  {
   "cell_type": "markdown",
   "id": "9a34fb52",
   "metadata": {},
   "source": [
    "___"
   ]
  },
  {
   "cell_type": "markdown",
   "id": "52485f39",
   "metadata": {},
   "source": [
    "The below graph shows the frequency of each words appearing based on TF-IDF vectorizer."
   ]
  },
  {
   "cell_type": "code",
   "execution_count": 8,
   "id": "ba8309b0",
   "metadata": {},
   "outputs": [
    {
     "data": {
      "image/png": "[encoded data removed]",
      "text/plain": [
       "<Figure size 1008x576 with 1 Axes>"
      ]
     },
     "metadata": {
      "needs_background": "light"
     },
     "output_type": "display_data"
    }
   ],
   "source": [
    "X_train, X_test, y_train, y_test = train_test_split(df_combined['title'], df_combined['subreddit'], \n",
    "                                                    test_size=0.2, random_state=24)\n",
    "tvec = TfidfVectorizer(analyzer=clean_text)\n",
    "X_counts = tvec.fit_transform(df_combined['title'][0:100])\n",
    "X_counts.shape\n",
    "\n",
    "plot_word_freq(X_counts, tvec, 25)"
   ]
  },
  {
   "cell_type": "markdown",
   "id": "3e178884",
   "metadata": {},
   "source": [
    "___"
   ]
  },
  {
   "cell_type": "markdown",
   "id": "5c60bcad",
   "metadata": {},
   "source": [
    "# 2. Modeling"
   ]
  },
  {
   "cell_type": "markdown",
   "id": "e71966f4",
   "metadata": {},
   "source": [
    "## 2a. Modeling - Pipeline\n",
    "- We will use GridSearchCV to iterate through various vectorizers and classifiers with their respective hyperparameters, all within the pipeline. \n",
    "    1. vectorize text using 2 methods:\n",
    "        - Count Vectorizer\n",
    "        - TF-IDF Vectorizer\n",
    "    2. classify vectorized data using 3 methods:\n",
    "        - Logistic Regression\n",
    "        - K-Nearest Neighbors\n",
    "        - Naive Bayes\n",
    "- We will then evaluate each scores and determine the best estimators with the corresponding hyperparameters "
   ]
  },
  {
   "cell_type": "code",
   "execution_count": 9,
   "id": "dcadbe54",
   "metadata": {},
   "outputs": [
    {
     "name": "stdout",
     "output_type": "stream",
     "text": [
      "Fitting 5 folds for each of 24 candidates, totalling 120 fits\n",
      "Fitting 5 folds for each of 48 candidates, totalling 240 fits\n",
      "Fitting 5 folds for each of 18 candidates, totalling 90 fits\n",
      "Fitting 5 folds for each of 7 candidates, totalling 35 fits\n",
      "\n",
      "Here are the lists of best scores from CountVectorizer for each model :\n",
      "\n",
      "LogisticRegression: 0.87\n",
      "With best parameters: {'clf': LogisticRegression(C=1, l1_ratio=0.25), 'clf__C': 1, 'clf__l1_ratio': 0.25, 'clf__penalty': 'l2'}\n",
      "\n",
      "\n",
      "LogisticRegression: 0.87\n",
      "With best parameters: {'clf': LogisticRegression(C=1, l1_ratio=0.25, solver='newton-cg'), 'clf__C': 1, 'clf__l1_ratio': 0.25, 'clf__penalty': 'l2', 'clf__solver': 'newton-cg'}\n",
      "\n",
      "\n",
      "KNeighborsClassifier: 0.586\n",
      "With best parameters: {'clf': KNeighborsClassifier(algorithm='ball_tree', n_neighbors=3, weights='distance'), 'clf__algorithm': 'ball_tree', 'clf__n_neighbors': 3, 'clf__weights': 'distance'}\n",
      "\n",
      "\n",
      "MultinomialNB: 0.882\n",
      "With best parameters: {'clf': MultinomialNB(alpha=0.5), 'clf__alpha': 0.5}\n",
      "\n",
      "\n",
      "Fitting 5 folds for each of 24 candidates, totalling 120 fits\n",
      "Fitting 5 folds for each of 48 candidates, totalling 240 fits\n",
      "Fitting 5 folds for each of 18 candidates, totalling 90 fits\n",
      "Fitting 5 folds for each of 7 candidates, totalling 35 fits\n",
      "\n",
      "Here are the lists of best scores from TfidfVectorizer for each model :\n",
      "\n",
      "LogisticRegression: 0.87\n",
      "With best parameters: {'clf': LogisticRegression(C=5, l1_ratio=0.25), 'clf__C': 1, 'clf__l1_ratio': 0.25, 'clf__penalty': 'l2'}\n",
      "\n",
      "\n",
      "LogisticRegression: 0.87\n",
      "With best parameters: {'clf': LogisticRegression(C=5, l1_ratio=0.25, solver='newton-cg'), 'clf__C': 1, 'clf__l1_ratio': 0.25, 'clf__penalty': 'l2', 'clf__solver': 'newton-cg'}\n",
      "\n",
      "\n",
      "KNeighborsClassifier: 0.586\n",
      "With best parameters: {'clf': KNeighborsClassifier(algorithm='ball_tree', n_neighbors=7, weights='distance'), 'clf__algorithm': 'ball_tree', 'clf__n_neighbors': 3, 'clf__weights': 'distance'}\n",
      "\n",
      "\n",
      "MultinomialNB: 0.882\n",
      "With best parameters: {'clf': MultinomialNB(alpha=1), 'clf__alpha': 0.5}\n",
      "\n",
      "\n",
      "LogisticRegression: 0.879\n",
      "With best parameters: {'clf': LogisticRegression(C=5, l1_ratio=0.25), 'clf__C': 5, 'clf__l1_ratio': 0.25, 'clf__penalty': 'l2'}\n",
      "\n",
      "\n",
      "LogisticRegression: 0.879\n",
      "With best parameters: {'clf': LogisticRegression(C=5, l1_ratio=0.25, solver='newton-cg'), 'clf__C': 5, 'clf__l1_ratio': 0.25, 'clf__penalty': 'l2', 'clf__solver': 'newton-cg'}\n",
      "\n",
      "\n",
      "KNeighborsClassifier: 0.798\n",
      "With best parameters: {'clf': KNeighborsClassifier(algorithm='ball_tree', n_neighbors=7, weights='distance'), 'clf__algorithm': 'ball_tree', 'clf__n_neighbors': 7, 'clf__weights': 'distance'}\n",
      "\n",
      "\n",
      "MultinomialNB: 0.883\n",
      "With best parameters: {'clf': MultinomialNB(alpha=1), 'clf__alpha': 1}\n",
      "\n",
      "\n",
      "74.39859580993652\n"
     ]
    }
   ],
   "source": [
    "a= time.time()\n",
    "\n",
    "# Setting train test split before vectorizing and modelling\n",
    "X_train, X_test, y_train, y_test = train_test_split(df_combined['title'], df_combined['subreddit'], \n",
    "                                                    test_size=0.2, random_state=24)\n",
    "\n",
    "# setting the hyperparameters to be tuned during the GridSearchCv\n",
    "grid_params = [\n",
    "    {\n",
    "        'vec__max_df': [1.0,0.95],\n",
    "        'vec__min_df': [0.0,0.05],\n",
    "        'vec__ngram_range': [(1,3)],\n",
    "        'vec__max_features': [5000,6000],\n",
    "    },\n",
    "\n",
    "    {\n",
    "        'clf': [LogisticRegression()],\n",
    "        'clf__penalty':['l2','l1'],\n",
    "        'clf__C':[1,5,10,15],\n",
    "        'clf__l1_ratio':[0.25,0.5,0.75],\n",
    "    },\n",
    "    \n",
    "    {\n",
    "        'clf': [LogisticRegression()],\n",
    "        'clf__penalty':['l2'],\n",
    "        'clf__C':[1,5,10,15],\n",
    "        'clf__l1_ratio':[0.25,0.5,0.75],\n",
    "        'clf__solver':['newton-cg','saga','sag','liblinear']\n",
    "    },\n",
    "    \n",
    "    {\n",
    "        'clf': [KNeighborsClassifier()],\n",
    "        'clf__n_neighbors':[3,5,7],\n",
    "        'clf__weights':['uniform','distance'],\n",
    "        'clf__algorithm':['ball_tree','kd_tree','auto']\n",
    "    },\n",
    "    \n",
    "    {\n",
    "        'clf': [MultinomialNB()],\n",
    "        'clf__alpha':[0,0.5,1,1.5,2,3,4],        \n",
    "    },\n",
    "]\n",
    "\n",
    "# we do a for loop to loop through the 2 types of vectorizers\n",
    "# and use GridSearchCV to iterate the model through various hyperparameters\n",
    "# the best model will be selected based on highest accuracy score\n",
    "best_score = 0\n",
    "vec_list = [CountVectorizer(analyzer=clean_text), TfidfVectorizer(analyzer=clean_text)]\n",
    "\n",
    "# creating a list for tracking of best scores/models/params thru each loop\n",
    "score = []\n",
    "model = []\n",
    "params =[]\n",
    "vect = []\n",
    "\n",
    "# lopp thru each of the 2 vectorizers\n",
    "for vec in vec_list: \n",
    "    pipe = Pipeline([\n",
    "        ('vec', vec),\n",
    "        ('clf', LogisticRegression())\n",
    "    ])\n",
    "\n",
    "\n",
    "    # iterate thru the different grid_params for each model for the current vectorizer\n",
    "    for i in range(1,len(grid_params)):\n",
    "        gridsearch = GridSearchCV(pipe, grid_params[i], verbose=1, n_jobs=-1,\n",
    "                              cv=5, return_train_score=False)\n",
    "        gridsearch.fit(X_train,y_train)\n",
    "        y_pred = gridsearch.predict(X_test)\n",
    "        \n",
    "        # appending list of scores for each model for tracking purposes\n",
    "        model.append(grid_params[i]['clf'][0])\n",
    "        score.append(gridsearch.best_score_)\n",
    "        params.append(gridsearch.best_params_)\n",
    "        vec_name = (re.findall('(\\w+)\\(',str(vec)))[0]\n",
    "        vect.append(vec_name)\n",
    "    \n",
    "    \n",
    "    # printing each model with its vectorizer and respective scores\n",
    "    score = list(np.round(score,3))\n",
    "    vec_name = (re.findall('(\\w+)\\(',str(vec)))[0]\n",
    "    print(\"\\nHere are the lists of best scores from {} for each model :\\n\".format(vec_name))\n",
    "    \n",
    "    for i in range(len(model)):\n",
    "        model_name = (re.findall('(\\w+)\\(',str(model[i])))[0]\n",
    "        print(f\"{model_name}: {score[i]}\\nWith best parameters: {params[i]}\")\n",
    "        print(\"\\n\")\n",
    "\n",
    "        \n",
    "    # retain gridsearch pipeline with the best score for later use\n",
    "    if gridsearch.best_score_ > best_score:\n",
    "        best_score = gridsearch.best_score_\n",
    "        best_params = gridsearch.best_params_\n",
    "        best_estimator = gridsearch.best_estimator_\n",
    "        gridsearch = gridsearch\n",
    "        y_pred = y_pred\n",
    "    \n",
    "        \n",
    "b= time.time()\n",
    "print(b-a)"
   ]
  },
  {
   "cell_type": "code",
   "execution_count": 10,
   "id": "2210a1bd",
   "metadata": {},
   "outputs": [],
   "source": [
    "df_gridsearch = pd.DataFrame([vect,model,score,params]).T\n",
    "df_gridsearch.columns=['Vectorizer','Model','Accuracy score','Hyperparameters']\n",
    "df_gridsearch.Model = df_gridsearch.Model.map(lambda x: (re.findall('(\\w+)\\(',str(x)))[0])"
   ]
  },
  {
   "cell_type": "markdown",
   "id": "f4e923b4",
   "metadata": {},
   "source": [
    "**The table below shows the best hyperparameters for each permutation of Vectorizer and Model/Estimator. \n",
    "df_gridsearch**"
   ]
  },
  {
   "cell_type": "code",
   "execution_count": 11,
   "id": "5cbcd44d",
   "metadata": {
    "scrolled": true
   },
   "outputs": [
    {
     "data": {
      "text/html": [
       "<div>\n",
       "<style scoped>\n",
       "    .dataframe tbody tr th:only-of-type {\n",
       "        vertical-align: middle;\n",
       "    }\n",
       "\n",
       "    .dataframe tbody tr th {\n",
       "        vertical-align: top;\n",
       "    }\n",
       "\n",
       "    .dataframe thead th {\n",
       "        text-align: right;\n",
       "    }\n",
       "</style>\n",
       "<table border=\"1\" class=\"dataframe\">\n",
       "  <thead>\n",
       "    <tr style=\"text-align: right;\">\n",
       "      <th></th>\n",
       "      <th>Vectorizer</th>\n",
       "      <th>Model</th>\n",
       "      <th>Accuracy score</th>\n",
       "      <th>Hyperparameters</th>\n",
       "    </tr>\n",
       "  </thead>\n",
       "  <tbody>\n",
       "    <tr>\n",
       "      <th>0</th>\n",
       "      <td>CountVectorizer</td>\n",
       "      <td>LogisticRegression</td>\n",
       "      <td>0.87</td>\n",
       "      <td>{'clf': LogisticRegression(C=5, l1_ratio=0.25), 'clf__C': 1, 'clf__l1_ratio': 0.25, 'clf__penalty': 'l2'}</td>\n",
       "    </tr>\n",
       "    <tr>\n",
       "      <th>1</th>\n",
       "      <td>CountVectorizer</td>\n",
       "      <td>LogisticRegression</td>\n",
       "      <td>0.87</td>\n",
       "      <td>{'clf': LogisticRegression(C=5, l1_ratio=0.25, solver='newton-cg'), 'clf__C': 1, 'clf__l1_ratio': 0.25, 'clf__penalty': 'l2', 'clf__solver': 'newton-cg'}</td>\n",
       "    </tr>\n",
       "    <tr>\n",
       "      <th>2</th>\n",
       "      <td>CountVectorizer</td>\n",
       "      <td>KNeighborsClassifier</td>\n",
       "      <td>0.586</td>\n",
       "      <td>{'clf': KNeighborsClassifier(algorithm='ball_tree', n_neighbors=7, weights='distance'), 'clf__algorithm': 'ball_tree', 'clf__n_neighbors': 3, 'clf__weights': 'distance'}</td>\n",
       "    </tr>\n",
       "    <tr>\n",
       "      <th>3</th>\n",
       "      <td>CountVectorizer</td>\n",
       "      <td>MultinomialNB</td>\n",
       "      <td>0.882</td>\n",
       "      <td>{'clf': MultinomialNB(alpha=1), 'clf__alpha': 0.5}</td>\n",
       "    </tr>\n",
       "    <tr>\n",
       "      <th>4</th>\n",
       "      <td>TfidfVectorizer</td>\n",
       "      <td>LogisticRegression</td>\n",
       "      <td>0.879</td>\n",
       "      <td>{'clf': LogisticRegression(C=5, l1_ratio=0.25), 'clf__C': 5, 'clf__l1_ratio': 0.25, 'clf__penalty': 'l2'}</td>\n",
       "    </tr>\n",
       "    <tr>\n",
       "      <th>5</th>\n",
       "      <td>TfidfVectorizer</td>\n",
       "      <td>LogisticRegression</td>\n",
       "      <td>0.879</td>\n",
       "      <td>{'clf': LogisticRegression(C=5, l1_ratio=0.25, solver='newton-cg'), 'clf__C': 5, 'clf__l1_ratio': 0.25, 'clf__penalty': 'l2', 'clf__solver': 'newton-cg'}</td>\n",
       "    </tr>\n",
       "    <tr>\n",
       "      <th>6</th>\n",
       "      <td>TfidfVectorizer</td>\n",
       "      <td>KNeighborsClassifier</td>\n",
       "      <td>0.798</td>\n",
       "      <td>{'clf': KNeighborsClassifier(algorithm='ball_tree', n_neighbors=7, weights='distance'), 'clf__algorithm': 'ball_tree', 'clf__n_neighbors': 7, 'clf__weights': 'distance'}</td>\n",
       "    </tr>\n",
       "    <tr>\n",
       "      <th>7</th>\n",
       "      <td>TfidfVectorizer</td>\n",
       "      <td>MultinomialNB</td>\n",
       "      <td>0.883</td>\n",
       "      <td>{'clf': MultinomialNB(alpha=1), 'clf__alpha': 1}</td>\n",
       "    </tr>\n",
       "  </tbody>\n",
       "</table>\n",
       "</div>"
      ],
      "text/plain": [
       "        Vectorizer                 Model Accuracy score  \\\n",
       "0  CountVectorizer    LogisticRegression           0.87   \n",
       "1  CountVectorizer    LogisticRegression           0.87   \n",
       "2  CountVectorizer  KNeighborsClassifier          0.586   \n",
       "3  CountVectorizer         MultinomialNB          0.882   \n",
       "4  TfidfVectorizer    LogisticRegression          0.879   \n",
       "5  TfidfVectorizer    LogisticRegression          0.879   \n",
       "6  TfidfVectorizer  KNeighborsClassifier          0.798   \n",
       "7  TfidfVectorizer         MultinomialNB          0.883   \n",
       "\n",
       "                                                                                                                                                             Hyperparameters  \n",
       "0                                                                  {'clf': LogisticRegression(C=5, l1_ratio=0.25), 'clf__C': 1, 'clf__l1_ratio': 0.25, 'clf__penalty': 'l2'}  \n",
       "1                  {'clf': LogisticRegression(C=5, l1_ratio=0.25, solver='newton-cg'), 'clf__C': 1, 'clf__l1_ratio': 0.25, 'clf__penalty': 'l2', 'clf__solver': 'newton-cg'}  \n",
       "2  {'clf': KNeighborsClassifier(algorithm='ball_tree', n_neighbors=7, weights='distance'), 'clf__algorithm': 'ball_tree', 'clf__n_neighbors': 3, 'clf__weights': 'distance'}  \n",
       "3                                                                                                                         {'clf': MultinomialNB(alpha=1), 'clf__alpha': 0.5}  \n",
       "4                                                                  {'clf': LogisticRegression(C=5, l1_ratio=0.25), 'clf__C': 5, 'clf__l1_ratio': 0.25, 'clf__penalty': 'l2'}  \n",
       "5                  {'clf': LogisticRegression(C=5, l1_ratio=0.25, solver='newton-cg'), 'clf__C': 5, 'clf__l1_ratio': 0.25, 'clf__penalty': 'l2', 'clf__solver': 'newton-cg'}  \n",
       "6  {'clf': KNeighborsClassifier(algorithm='ball_tree', n_neighbors=7, weights='distance'), 'clf__algorithm': 'ball_tree', 'clf__n_neighbors': 7, 'clf__weights': 'distance'}  \n",
       "7                                                                                                                           {'clf': MultinomialNB(alpha=1), 'clf__alpha': 1}  "
      ]
     },
     "execution_count": 11,
     "metadata": {},
     "output_type": "execute_result"
    }
   ],
   "source": [
    "df_gridsearch"
   ]
  },
  {
   "cell_type": "markdown",
   "id": "b75f9b00",
   "metadata": {},
   "source": [
    "___"
   ]
  },
  {
   "cell_type": "markdown",
   "id": "a05724bb",
   "metadata": {},
   "source": [
    "## 2b. Evaluation of GridSearchCV results"
   ]
  },
  {
   "cell_type": "markdown",
   "id": "b0c81842",
   "metadata": {},
   "source": [
    "As shown in the scores above, we found the best pipeline model to be:\n",
    "- TF-IDF Vectorizer\n",
    "- Multinomial Naive Bayes with hyperparameter alpha value of 1."
   ]
  },
  {
   "cell_type": "markdown",
   "id": "a08c40d5",
   "metadata": {},
   "source": [
    "### Score metrics based on the best model\n",
    "- i.e. TF-IDF Vectorizer with Multinomial Naive Bayes (alpha = 1)\n",
    "- **Take note that the scores below are not mean value, while the scores by GridSearchCV (shown above) are the mean values for cv=5**"
   ]
  },
  {
   "cell_type": "code",
   "execution_count": 12,
   "id": "c1055e6d",
   "metadata": {},
   "outputs": [
    {
     "data": {
      "text/html": [
       "<div>\n",
       "<style scoped>\n",
       "    .dataframe tbody tr th:only-of-type {\n",
       "        vertical-align: middle;\n",
       "    }\n",
       "\n",
       "    .dataframe tbody tr th {\n",
       "        vertical-align: top;\n",
       "    }\n",
       "\n",
       "    .dataframe thead th {\n",
       "        text-align: right;\n",
       "    }\n",
       "</style>\n",
       "<table border=\"1\" class=\"dataframe\">\n",
       "  <thead>\n",
       "    <tr style=\"text-align: right;\">\n",
       "      <th></th>\n",
       "      <th>F1 score</th>\n",
       "      <th>Accuracy score</th>\n",
       "      <th>Precision score</th>\n",
       "      <th>Recall score</th>\n",
       "    </tr>\n",
       "  </thead>\n",
       "  <tbody>\n",
       "    <tr>\n",
       "      <th>train</th>\n",
       "      <td>0.969606</td>\n",
       "      <td>0.96975</td>\n",
       "      <td>0.965483</td>\n",
       "      <td>0.973764</td>\n",
       "    </tr>\n",
       "    <tr>\n",
       "      <th>test</th>\n",
       "      <td>0.898551</td>\n",
       "      <td>0.895</td>\n",
       "      <td>0.89942</td>\n",
       "      <td>0.897683</td>\n",
       "    </tr>\n",
       "  </tbody>\n",
       "</table>\n",
       "</div>"
      ],
      "text/plain": [
       "       F1 score Accuracy score Precision score Recall score\n",
       "train  0.969606        0.96975        0.965483     0.973764\n",
       "test   0.898551          0.895         0.89942     0.897683"
      ]
     },
     "execution_count": 12,
     "metadata": {},
     "output_type": "execute_result"
    }
   ],
   "source": [
    "# train set scores\n",
    "train_f1 = f1_score(y_train,gridsearch.predict(X_train))\n",
    "train_acc = accuracy_score(y_train,gridsearch.predict(X_train))\n",
    "train_prec = precision_score(y_train,gridsearch.predict(X_train))\n",
    "train_rec =recall_score(y_train,gridsearch.predict(X_train))\n",
    "\n",
    "# test set scores\n",
    "test_f1 = f1_score(y_test,y_pred)\n",
    "test_acc  = accuracy_score(y_test,y_pred)\n",
    "test_prec = precision_score(y_test,y_pred)\n",
    "test_rec  = recall_score(y_test,y_pred)\n",
    "\n",
    "# creating dataframe to visualize the different classification metric scores for our optimized model\n",
    "df_results = pd.DataFrame(\n",
    "                columns = [\"F1 score\", \"Accuracy score\", \"Precision score\", \"Recall score\"],\n",
    "                index = ['train', 'test']\n",
    ")\n",
    "\n",
    "df_results.loc['train'] = [train_f1, train_acc, train_prec,train_rec]\n",
    "df_results.loc['test'] = [test_f1, test_acc, test_prec, test_rec]\n",
    "df_results"
   ]
  },
  {
   "cell_type": "markdown",
   "id": "4ad577fe",
   "metadata": {},
   "source": [
    "The above table shows the train and test scores for our best model. Take note that these scores are slightly different from the one generated by the Pipeline GridSearchCV since the latter is a mean value of cv=5, while there is no cross-validation on the former."
   ]
  },
  {
   "cell_type": "markdown",
   "id": "1d9b2a2b",
   "metadata": {},
   "source": [
    "### Confusion matrix for best model"
   ]
  },
  {
   "cell_type": "code",
   "execution_count": 13,
   "id": "8e2e4a40",
   "metadata": {},
   "outputs": [
    {
     "data": {
      "image/png": "[encoded data removed]",
      "text/plain": [
       "<Figure size 720x360 with 2 Axes>"
      ]
     },
     "metadata": {
      "needs_background": "light"
     },
     "output_type": "display_data"
    }
   ],
   "source": [
    "plot_cm(\"Multinomial Naive Bayes\", gridsearch)"
   ]
  },
  {
   "cell_type": "markdown",
   "id": "ec534e9b",
   "metadata": {},
   "source": [
    "For our use case of detecting fake news, we want to maximise the metric `specificity`. \n",
    "- we want to maximise the number of True Negative (i.e. correctly detecting fake news as fake)\n",
    "- we want to minimise the number of False Positive (i.e. wrongly detecting fake news as real)\n",
    "\n",
    "Therefore, from the above confusion matrix perspective, we want to:\n",
    "- increase the top left number\n",
    "- decrease the bottom left number\n",
    "\n",
    "From the looks of it, our model is doing very well in this regards, achieving specificity of 0.892 on the test set. This means, for every 1000 fake news, our model will correctly detect 892 of it as fake. \n",
    "\n",
    "**Specificity score comparison:**\n",
    "- Multinomial Naive Bayes: 0.892\n",
    "- Logistic Regression: 0.923\n",
    "- KNN : 0.653\n",
    "\n",
    "\n",
    "While the specificity score of Logistic Regression is highest, we still selected Multinomial Naive Bayes based on the other metrics scores in which it scored better. The best compromise score would be the F1-score, in which our model again did very well with 0.894 vs 0.885 for Logistic Regression. Also, the Logistic Regression seem to have overfitted more in the train set, as compared to Multinomial Naive Bayes.\n",
    "\n",
    "**F1-score comparison:**\n",
    "- Multinomial Naive Bayes: 0.894\n",
    "- Logistic Regression: 0.885\n",
    "- KNN :0.808\n"
   ]
  },
  {
   "cell_type": "markdown",
   "id": "9a294318",
   "metadata": {},
   "source": [
    "**Just as comparison to the best Logistic Regression model**"
   ]
  },
  {
   "cell_type": "code",
   "execution_count": 14,
   "id": "fb949b1f",
   "metadata": {},
   "outputs": [
    {
     "data": {
      "image/png": "[encoded data removed]",
      "text/plain": [
       "<Figure size 720x360 with 2 Axes>"
      ]
     },
     "metadata": {
      "needs_background": "light"
     },
     "output_type": "display_data"
    }
   ],
   "source": [
    "X_train, X_test, y_train, y_test = train_test_split(df_combined['title'], df_combined['subreddit'], \n",
    "                                                    test_size=0.2, random_state=24)\n",
    "tvec = TfidfVectorizer(analyzer=clean_text)\n",
    "X_train = tvec.fit_transform(X_train)\n",
    "X_test = tvec.transform(X_test)\n",
    "clf = LogisticRegression()\n",
    "clf.fit(X_train,y_train)\n",
    "y_pred = clf.predict(X_test)\n",
    "\n",
    "plot_cm(\"Logistic Regression\", clf)"
   ]
  },
  {
   "cell_type": "code",
   "execution_count": 15,
   "id": "029836ef",
   "metadata": {},
   "outputs": [
    {
     "data": {
      "image/png": "[encoded data removed]",
      "text/plain": [
       "<Figure size 720x360 with 2 Axes>"
      ]
     },
     "metadata": {
      "needs_background": "light"
     },
     "output_type": "display_data"
    }
   ],
   "source": [
    "X_train, X_test, y_train, y_test = train_test_split(df_combined['title'], df_combined['subreddit'], \n",
    "                                                    test_size=0.2, random_state=24)\n",
    "tvec = TfidfVectorizer(analyzer=clean_text)\n",
    "X_train = tvec.fit_transform(X_train)\n",
    "X_test = tvec.transform(X_test)\n",
    "clf = KNeighborsClassifier()\n",
    "clf.fit(X_train,y_train)\n",
    "y_pred = clf.predict(X_test)\n",
    "\n",
    "plot_cm(\"Logistic Regression\", clf)"
   ]
  },
  {
   "cell_type": "markdown",
   "id": "a3139983",
   "metadata": {},
   "source": [
    "___"
   ]
  },
  {
   "cell_type": "markdown",
   "id": "7ebe6980",
   "metadata": {},
   "source": [
    "# Hyperparameter Tuning\n"
   ]
  },
  {
   "cell_type": "markdown",
   "id": "758d8c82",
   "metadata": {},
   "source": [
    "- While the Pipeline and GridSearchCV helped to automate and extract the best hyperparameters, we will just have a look at how the alpha hyperparameter value affects the Multinomial Naive Bayes model.\n",
    "- Alpha value refers to the Laplace Smoothing. It assigns a non-zero probability to words that do not appear in a particular classification. For example, we cannot say that a particular word (say \"covid\") will never appear in r/news just because it did not appear in our sample. Therefore alpha value is applied to counter this effect. \n",
    "- Thru gridsearchcv, we found that the optimal value was 1.\n",
    "- As the value increases beyond 1, the score drops, this is because as alpha increases, the model will rely too heavily on the alpha value instead of the actual probability of each word. And therefore it becomes very biased and hence inaccurate."
   ]
  },
  {
   "cell_type": "code",
   "execution_count": 16,
   "id": "ecc643f4",
   "metadata": {},
   "outputs": [
    {
     "data": {
      "image/png": "[encoded data removed]",
      "text/plain": [
       "<Figure size 720x504 with 1 Axes>"
      ]
     },
     "metadata": {
      "needs_background": "light"
     },
     "output_type": "display_data"
    }
   ],
   "source": [
    "X_train, X_test, y_train, y_test = train_test_split(df_combined['title'], df_combined['subreddit'], \n",
    "                                                    test_size=0.2, random_state=24)\n",
    "tvec = TfidfVectorizer(analyzer=clean_text)\n",
    "X_train = tvec.fit_transform(X_train)\n",
    "X_test = tvec.transform(X_test)\n",
    "\n",
    "alpha_range = [0,0.5,0.8,1,1.5,2,3,4,5,6,7,8,9, 10]\n",
    "scores = []\n",
    "for alpha in alpha_range:\n",
    "    clf = MultinomialNB(alpha=alpha)\n",
    "    clf.fit(X_train, y_train)\n",
    "    score = cross_val_score(clf, X_train,y_train, cv=5).mean()\n",
    "#     print(score)\n",
    "    scores.append(score)\n",
    "\n",
    "plt.figure(figsize = (10,7))\n",
    "plt.plot(alpha_range, scores);\n",
    "\n",
    "plt.xlabel('alpha', fontsize =20);\n",
    "plt.ylabel('score', fontsize = 20);\n",
    "plt.title(\"Plot of accuracy score against\\n range of alpha values\", fontsize =20)\n",
    "plt.tick_params(labelsize = 18)\n",
    "plt.grid()"
   ]
  },
  {
   "cell_type": "markdown",
   "id": "5a23e1bf",
   "metadata": {},
   "source": [
    "___"
   ]
  }
 ],
 "metadata": {
  "kernelspec": {
   "display_name": "Python 3",
   "language": "python",
   "name": "python3"
  },
  "language_info": {
   "codemirror_mode": {
    "name": "ipython",
    "version": 3
   },
   "file_extension": ".py",
   "mimetype": "text/x-python",
   "name": "python",
   "nbconvert_exporter": "python",
   "pygments_lexer": "ipython3",
   "version": "3.8.8"
  }
 },
 "nbformat": 4,
 "nbformat_minor": 5
}
