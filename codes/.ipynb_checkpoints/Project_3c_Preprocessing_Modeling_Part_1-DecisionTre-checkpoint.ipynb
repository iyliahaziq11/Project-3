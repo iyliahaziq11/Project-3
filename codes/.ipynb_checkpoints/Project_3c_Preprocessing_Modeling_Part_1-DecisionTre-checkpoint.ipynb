{
 "cells": [
  {
   "cell_type": "markdown",
   "id": "8e038058",
   "metadata": {},
   "source": [
    "# Import Libraries"
   ]
  },
  {
   "cell_type": "code",
   "execution_count": 139,
   "id": "1127fe3d",
   "metadata": {},
   "outputs": [],
   "source": [
    "import matplotlib.pyplot as plt\n",
    "import seaborn as sns\n",
    "import pandas as pd\n",
    "import numpy as np\n",
    "import requests\n",
    "import re\n",
    "import json\n",
    "import time\n",
    "import datetime\n",
    "import math\n",
    "\n",
    "\n",
    "from psaw import PushshiftAPI\n",
    "import praw\n",
    "\n",
    "\n",
    "from sklearn.linear_model import LogisticRegression\n",
    "from sklearn.preprocessing import OneHotEncoder, PolynomialFeatures, StandardScaler, MinMaxScaler\n",
    "from sklearn.model_selection import cross_val_score, train_test_split, cross_val_predict\n",
    "from sklearn.metrics import classification_report, confusion_matrix, precision_score, recall_score\n",
    "from sklearn.neighbors import KNeighborsClassifier\n",
    "\n",
    "%matplotlib inline\n",
    "pd.set_option('display.max_rows', None)\n",
    "pd.set_option('display.max_columns', None)\n",
    "\n",
    "\n",
    "import warnings\n",
    "warnings.filterwarnings('ignore')"
   ]
  },
  {
   "cell_type": "markdown",
   "id": "122ce374",
   "metadata": {},
   "source": [
    "---"
   ]
  },
  {
   "cell_type": "markdown",
   "id": "c8b4e952",
   "metadata": {},
   "source": [
    "# Preprocessing"
   ]
  },
  {
   "cell_type": "markdown",
   "id": "4d2f33ad",
   "metadata": {},
   "source": [
    "### Import data for 2 types of modeling :\n",
    "1. Using logistic regression / KNN\n",
    "2. Using NLP Naive Bayes"
   ]
  },
  {
   "cell_type": "code",
   "execution_count": 140,
   "id": "a1f9d826",
   "metadata": {},
   "outputs": [],
   "source": [
    "df_combined = pd.read_csv(\"../data/df_for_modelling_top2500.csv\")"
   ]
  },
  {
   "cell_type": "code",
   "execution_count": 141,
   "id": "ccf68778",
   "metadata": {},
   "outputs": [
    {
     "data": {
      "text/html": [
       "<div>\n",
       "<style scoped>\n",
       "    .dataframe tbody tr th:only-of-type {\n",
       "        vertical-align: middle;\n",
       "    }\n",
       "\n",
       "    .dataframe tbody tr th {\n",
       "        vertical-align: top;\n",
       "    }\n",
       "\n",
       "    .dataframe thead th {\n",
       "        text-align: right;\n",
       "    }\n",
       "</style>\n",
       "<table border=\"1\" class=\"dataframe\">\n",
       "  <thead>\n",
       "    <tr style=\"text-align: right;\">\n",
       "      <th></th>\n",
       "      <th>created_utc</th>\n",
       "      <th>num_comments</th>\n",
       "      <th>score</th>\n",
       "      <th>subreddit</th>\n",
       "      <th>title</th>\n",
       "      <th>num_char</th>\n",
       "    </tr>\n",
       "  </thead>\n",
       "  <tbody>\n",
       "    <tr>\n",
       "      <th>0</th>\n",
       "      <td>1633449271</td>\n",
       "      <td>9093</td>\n",
       "      <td>67198</td>\n",
       "      <td>news</td>\n",
       "      <td>FBI raids New York City police union headquarters</td>\n",
       "      <td>49</td>\n",
       "    </tr>\n",
       "    <tr>\n",
       "      <th>1</th>\n",
       "      <td>1629487987</td>\n",
       "      <td>17764</td>\n",
       "      <td>54117</td>\n",
       "      <td>news</td>\n",
       "      <td>Capitol Police officer who shot Ashli Babbitt ...</td>\n",
       "      <td>74</td>\n",
       "    </tr>\n",
       "    <tr>\n",
       "      <th>2</th>\n",
       "      <td>1633475492</td>\n",
       "      <td>4675</td>\n",
       "      <td>51147</td>\n",
       "      <td>news</td>\n",
       "      <td>Third Sandy Hook parent wins defamation suit a...</td>\n",
       "      <td>63</td>\n",
       "    </tr>\n",
       "    <tr>\n",
       "      <th>3</th>\n",
       "      <td>1629464250</td>\n",
       "      <td>5910</td>\n",
       "      <td>45088</td>\n",
       "      <td>news</td>\n",
       "      <td>R Kelly's physician testifies the singer had h...</td>\n",
       "      <td>122</td>\n",
       "    </tr>\n",
       "    <tr>\n",
       "      <th>4</th>\n",
       "      <td>1629512311</td>\n",
       "      <td>5004</td>\n",
       "      <td>21237</td>\n",
       "      <td>news</td>\n",
       "      <td>University of Virginia disenrolls 238 students...</td>\n",
       "      <td>98</td>\n",
       "    </tr>\n",
       "  </tbody>\n",
       "</table>\n",
       "</div>"
      ],
      "text/plain": [
       "   created_utc  num_comments  score subreddit  \\\n",
       "0   1633449271          9093  67198      news   \n",
       "1   1629487987         17764  54117      news   \n",
       "2   1633475492          4675  51147      news   \n",
       "3   1629464250          5910  45088      news   \n",
       "4   1629512311          5004  21237      news   \n",
       "\n",
       "                                               title  num_char  \n",
       "0  FBI raids New York City police union headquarters        49  \n",
       "1  Capitol Police officer who shot Ashli Babbitt ...        74  \n",
       "2  Third Sandy Hook parent wins defamation suit a...        63  \n",
       "3  R Kelly's physician testifies the singer had h...       122  \n",
       "4  University of Virginia disenrolls 238 students...        98  "
      ]
     },
     "execution_count": 141,
     "metadata": {},
     "output_type": "execute_result"
    }
   ],
   "source": [
    "df_combined = df_combined.drop(columns='Unnamed: 0')\n",
    "df_combined.head()"
   ]
  },
  {
   "cell_type": "markdown",
   "id": "83fcd782",
   "metadata": {},
   "source": [
    "**We take the top 2500 posts in each category and proceed with logistic regression**\n",
    "- first we convert `created_utc` column into `day` and `hour` columns\n",
    "- then we onehotencode the target variable `subreddit` column"
   ]
  },
  {
   "cell_type": "code",
   "execution_count": 142,
   "id": "cc3b3491",
   "metadata": {},
   "outputs": [],
   "source": [
    "# converting and splitting the created_utc column into its\n",
    "# respective month, day, hour columns\n",
    "df_combined['created_utc'] = df_combined['created_utc'].map(lambda x:\n",
    "                                                    datetime.datetime.fromtimestamp(x))\n",
    "\n",
    "df_combined['day'] =  df_combined['created_utc'].dt.day\n",
    "df_combined['hour'] =  df_combined['created_utc'].dt.hour\n",
    "\n",
    "# dropping columns that are not required\n",
    "df_combined = df_combined.drop(columns=['created_utc','title'])"
   ]
  },
  {
   "cell_type": "code",
   "execution_count": 143,
   "id": "8855b973",
   "metadata": {},
   "outputs": [],
   "source": [
    "# converting the target variable subreddit column into 1 and 0, where\n",
    "# 1 indicates that the post is from r/news and \n",
    "# 0 indicates that the post is from r/TheOnion\n",
    "df_combined.reset_index(drop=True, inplace=True)\n",
    "df_combined['subreddit'].replace({'news':1,'TheOnion': 0}, inplace=True)\n",
    "\n",
    "# shifting the target variable subreddit column to the last column \n",
    "temp = df_combined['subreddit']\n",
    "df_combined = pd.concat((df_combined.drop(columns='subreddit'),temp),axis=1)"
   ]
  },
  {
   "cell_type": "code",
   "execution_count": 144,
   "id": "b36ff252",
   "metadata": {},
   "outputs": [
    {
     "data": {
      "image/png": "[encoded data removed]",
      "text/plain": [
       "<Figure size 576x288 with 1 Axes>"
      ]
     },
     "metadata": {
      "needs_background": "light"
     },
     "output_type": "display_data"
    }
   ],
   "source": [
    "# plotting to see the differences in hour of day when r/news and r/TheOnion posts are posted\n",
    "plt.figure(figsize=(8,4))\n",
    "sns.countplot(x='hour', data=df_combined, hue='subreddit');\n",
    "plt.title(\"Hour of the day at which\\n r/news and r/TheOnion posts were created\", fontsize=14);\n",
    "plt.legend([\"r/TheOnion\",\"r/news\"]);"
   ]
  },
  {
   "cell_type": "markdown",
   "id": "cec38c22",
   "metadata": {},
   "source": [
    "Interestingly, we see that r/news posts are created more consistently throughout the day. r/TheOnion posts are more erratic in that they are mostly created at night till the wee hours between 8pm to 2am.\n",
    "- between 10pm-4am, more r/TheOnion posts are created.\n",
    "- between 5am-9pm, more r/news posts are created."
   ]
  },
  {
   "cell_type": "code",
   "execution_count": 145,
   "id": "3eab2806",
   "metadata": {},
   "outputs": [
    {
     "data": {
      "image/png": "[encoded data removed]",
      "text/plain": [
       "<Figure size 576x288 with 1 Axes>"
      ]
     },
     "metadata": {
      "needs_background": "light"
     },
     "output_type": "display_data"
    }
   ],
   "source": [
    "# plotting to see the differences in day of the month when r/news and r/TheOnion posts are posted\n",
    "plt.figure(figsize=(8,4))\n",
    "sns.countplot(x='day', data=df_combined, hue='subreddit');\n",
    "plt.title(\"Day of the month at which\\n r/news and r/TheOnion posts were created\", fontsize=14);\n",
    "plt.legend([\"r/TheOnion\",\"r/news\"]);"
   ]
  },
  {
   "cell_type": "markdown",
   "id": "22cb2360",
   "metadata": {},
   "source": [
    "Again, there seems to be a pattern on which day of the month r/news and r/TheOnion posts are created. \n",
    "In this case, r/TheOnion posts seems to be created more consitently throughout the month, as compared to r/news, where the posts are mostly created in the early and late part of the month.\n",
    "\n",
    "These gives us confidence that these features will be able to predict well."
   ]
  },
  {
   "cell_type": "code",
   "execution_count": null,
   "id": "1151ccc0",
   "metadata": {},
   "outputs": [],
   "source": []
  },
  {
   "cell_type": "markdown",
   "id": "de38537b",
   "metadata": {},
   "source": [
    "**Dummify categorical variables**"
   ]
  },
  {
   "cell_type": "code",
   "execution_count": 146,
   "id": "2d072992",
   "metadata": {},
   "outputs": [],
   "source": [
    "df_combined = df_combined.astype({'day':'object', 'hour':'object'})\n",
    "df_combined = pd.get_dummies(df_combined, columns=['day','hour'])"
   ]
  },
  {
   "cell_type": "code",
   "execution_count": 147,
   "id": "ca93d86f",
   "metadata": {},
   "outputs": [
    {
     "data": {
      "text/html": [
       "<div>\n",
       "<style scoped>\n",
       "    .dataframe tbody tr th:only-of-type {\n",
       "        vertical-align: middle;\n",
       "    }\n",
       "\n",
       "    .dataframe tbody tr th {\n",
       "        vertical-align: top;\n",
       "    }\n",
       "\n",
       "    .dataframe thead th {\n",
       "        text-align: right;\n",
       "    }\n",
       "</style>\n",
       "<table border=\"1\" class=\"dataframe\">\n",
       "  <thead>\n",
       "    <tr style=\"text-align: right;\">\n",
       "      <th></th>\n",
       "      <th>num_comments</th>\n",
       "      <th>score</th>\n",
       "      <th>num_char</th>\n",
       "      <th>day_1</th>\n",
       "      <th>day_2</th>\n",
       "      <th>day_3</th>\n",
       "      <th>day_4</th>\n",
       "      <th>day_5</th>\n",
       "      <th>day_6</th>\n",
       "      <th>day_7</th>\n",
       "      <th>day_8</th>\n",
       "      <th>day_9</th>\n",
       "      <th>day_10</th>\n",
       "      <th>day_11</th>\n",
       "      <th>day_12</th>\n",
       "      <th>day_13</th>\n",
       "      <th>day_14</th>\n",
       "      <th>day_15</th>\n",
       "      <th>day_16</th>\n",
       "      <th>day_17</th>\n",
       "      <th>day_18</th>\n",
       "      <th>day_19</th>\n",
       "      <th>day_20</th>\n",
       "      <th>day_21</th>\n",
       "      <th>day_22</th>\n",
       "      <th>day_23</th>\n",
       "      <th>day_24</th>\n",
       "      <th>day_25</th>\n",
       "      <th>day_26</th>\n",
       "      <th>day_27</th>\n",
       "      <th>day_28</th>\n",
       "      <th>day_29</th>\n",
       "      <th>day_30</th>\n",
       "      <th>day_31</th>\n",
       "      <th>hour_0</th>\n",
       "      <th>hour_1</th>\n",
       "      <th>hour_2</th>\n",
       "      <th>hour_3</th>\n",
       "      <th>hour_4</th>\n",
       "      <th>hour_5</th>\n",
       "      <th>hour_6</th>\n",
       "      <th>hour_7</th>\n",
       "      <th>hour_8</th>\n",
       "      <th>hour_9</th>\n",
       "      <th>hour_10</th>\n",
       "      <th>hour_11</th>\n",
       "      <th>hour_12</th>\n",
       "      <th>hour_13</th>\n",
       "      <th>hour_14</th>\n",
       "      <th>hour_15</th>\n",
       "      <th>hour_16</th>\n",
       "      <th>hour_17</th>\n",
       "      <th>hour_18</th>\n",
       "      <th>hour_19</th>\n",
       "      <th>hour_20</th>\n",
       "      <th>hour_21</th>\n",
       "      <th>hour_22</th>\n",
       "      <th>hour_23</th>\n",
       "      <th>subreddit</th>\n",
       "    </tr>\n",
       "  </thead>\n",
       "  <tbody>\n",
       "    <tr>\n",
       "      <th>0</th>\n",
       "      <td>9093</td>\n",
       "      <td>67198</td>\n",
       "      <td>49</td>\n",
       "      <td>0</td>\n",
       "      <td>0</td>\n",
       "      <td>0</td>\n",
       "      <td>0</td>\n",
       "      <td>1</td>\n",
       "      <td>0</td>\n",
       "      <td>0</td>\n",
       "      <td>0</td>\n",
       "      <td>0</td>\n",
       "      <td>0</td>\n",
       "      <td>0</td>\n",
       "      <td>0</td>\n",
       "      <td>0</td>\n",
       "      <td>0</td>\n",
       "      <td>0</td>\n",
       "      <td>0</td>\n",
       "      <td>0</td>\n",
       "      <td>0</td>\n",
       "      <td>0</td>\n",
       "      <td>0</td>\n",
       "      <td>0</td>\n",
       "      <td>0</td>\n",
       "      <td>0</td>\n",
       "      <td>0</td>\n",
       "      <td>0</td>\n",
       "      <td>0</td>\n",
       "      <td>0</td>\n",
       "      <td>0</td>\n",
       "      <td>0</td>\n",
       "      <td>0</td>\n",
       "      <td>0</td>\n",
       "      <td>0</td>\n",
       "      <td>0</td>\n",
       "      <td>0</td>\n",
       "      <td>0</td>\n",
       "      <td>0</td>\n",
       "      <td>0</td>\n",
       "      <td>0</td>\n",
       "      <td>0</td>\n",
       "      <td>0</td>\n",
       "      <td>0</td>\n",
       "      <td>0</td>\n",
       "      <td>0</td>\n",
       "      <td>0</td>\n",
       "      <td>0</td>\n",
       "      <td>0</td>\n",
       "      <td>0</td>\n",
       "      <td>0</td>\n",
       "      <td>0</td>\n",
       "      <td>0</td>\n",
       "      <td>0</td>\n",
       "      <td>0</td>\n",
       "      <td>0</td>\n",
       "      <td>0</td>\n",
       "      <td>1</td>\n",
       "      <td>1</td>\n",
       "    </tr>\n",
       "    <tr>\n",
       "      <th>1</th>\n",
       "      <td>17764</td>\n",
       "      <td>54117</td>\n",
       "      <td>74</td>\n",
       "      <td>0</td>\n",
       "      <td>0</td>\n",
       "      <td>0</td>\n",
       "      <td>0</td>\n",
       "      <td>0</td>\n",
       "      <td>0</td>\n",
       "      <td>0</td>\n",
       "      <td>0</td>\n",
       "      <td>0</td>\n",
       "      <td>0</td>\n",
       "      <td>0</td>\n",
       "      <td>0</td>\n",
       "      <td>0</td>\n",
       "      <td>0</td>\n",
       "      <td>0</td>\n",
       "      <td>0</td>\n",
       "      <td>0</td>\n",
       "      <td>0</td>\n",
       "      <td>0</td>\n",
       "      <td>0</td>\n",
       "      <td>1</td>\n",
       "      <td>0</td>\n",
       "      <td>0</td>\n",
       "      <td>0</td>\n",
       "      <td>0</td>\n",
       "      <td>0</td>\n",
       "      <td>0</td>\n",
       "      <td>0</td>\n",
       "      <td>0</td>\n",
       "      <td>0</td>\n",
       "      <td>0</td>\n",
       "      <td>0</td>\n",
       "      <td>0</td>\n",
       "      <td>0</td>\n",
       "      <td>1</td>\n",
       "      <td>0</td>\n",
       "      <td>0</td>\n",
       "      <td>0</td>\n",
       "      <td>0</td>\n",
       "      <td>0</td>\n",
       "      <td>0</td>\n",
       "      <td>0</td>\n",
       "      <td>0</td>\n",
       "      <td>0</td>\n",
       "      <td>0</td>\n",
       "      <td>0</td>\n",
       "      <td>0</td>\n",
       "      <td>0</td>\n",
       "      <td>0</td>\n",
       "      <td>0</td>\n",
       "      <td>0</td>\n",
       "      <td>0</td>\n",
       "      <td>0</td>\n",
       "      <td>0</td>\n",
       "      <td>0</td>\n",
       "      <td>1</td>\n",
       "    </tr>\n",
       "    <tr>\n",
       "      <th>2</th>\n",
       "      <td>4675</td>\n",
       "      <td>51147</td>\n",
       "      <td>63</td>\n",
       "      <td>0</td>\n",
       "      <td>0</td>\n",
       "      <td>0</td>\n",
       "      <td>0</td>\n",
       "      <td>0</td>\n",
       "      <td>1</td>\n",
       "      <td>0</td>\n",
       "      <td>0</td>\n",
       "      <td>0</td>\n",
       "      <td>0</td>\n",
       "      <td>0</td>\n",
       "      <td>0</td>\n",
       "      <td>0</td>\n",
       "      <td>0</td>\n",
       "      <td>0</td>\n",
       "      <td>0</td>\n",
       "      <td>0</td>\n",
       "      <td>0</td>\n",
       "      <td>0</td>\n",
       "      <td>0</td>\n",
       "      <td>0</td>\n",
       "      <td>0</td>\n",
       "      <td>0</td>\n",
       "      <td>0</td>\n",
       "      <td>0</td>\n",
       "      <td>0</td>\n",
       "      <td>0</td>\n",
       "      <td>0</td>\n",
       "      <td>0</td>\n",
       "      <td>0</td>\n",
       "      <td>0</td>\n",
       "      <td>0</td>\n",
       "      <td>0</td>\n",
       "      <td>0</td>\n",
       "      <td>0</td>\n",
       "      <td>0</td>\n",
       "      <td>0</td>\n",
       "      <td>0</td>\n",
       "      <td>1</td>\n",
       "      <td>0</td>\n",
       "      <td>0</td>\n",
       "      <td>0</td>\n",
       "      <td>0</td>\n",
       "      <td>0</td>\n",
       "      <td>0</td>\n",
       "      <td>0</td>\n",
       "      <td>0</td>\n",
       "      <td>0</td>\n",
       "      <td>0</td>\n",
       "      <td>0</td>\n",
       "      <td>0</td>\n",
       "      <td>0</td>\n",
       "      <td>0</td>\n",
       "      <td>0</td>\n",
       "      <td>0</td>\n",
       "      <td>1</td>\n",
       "    </tr>\n",
       "    <tr>\n",
       "      <th>3</th>\n",
       "      <td>5910</td>\n",
       "      <td>45088</td>\n",
       "      <td>122</td>\n",
       "      <td>0</td>\n",
       "      <td>0</td>\n",
       "      <td>0</td>\n",
       "      <td>0</td>\n",
       "      <td>0</td>\n",
       "      <td>0</td>\n",
       "      <td>0</td>\n",
       "      <td>0</td>\n",
       "      <td>0</td>\n",
       "      <td>0</td>\n",
       "      <td>0</td>\n",
       "      <td>0</td>\n",
       "      <td>0</td>\n",
       "      <td>0</td>\n",
       "      <td>0</td>\n",
       "      <td>0</td>\n",
       "      <td>0</td>\n",
       "      <td>0</td>\n",
       "      <td>0</td>\n",
       "      <td>1</td>\n",
       "      <td>0</td>\n",
       "      <td>0</td>\n",
       "      <td>0</td>\n",
       "      <td>0</td>\n",
       "      <td>0</td>\n",
       "      <td>0</td>\n",
       "      <td>0</td>\n",
       "      <td>0</td>\n",
       "      <td>0</td>\n",
       "      <td>0</td>\n",
       "      <td>0</td>\n",
       "      <td>0</td>\n",
       "      <td>0</td>\n",
       "      <td>0</td>\n",
       "      <td>0</td>\n",
       "      <td>0</td>\n",
       "      <td>0</td>\n",
       "      <td>0</td>\n",
       "      <td>0</td>\n",
       "      <td>0</td>\n",
       "      <td>0</td>\n",
       "      <td>0</td>\n",
       "      <td>0</td>\n",
       "      <td>0</td>\n",
       "      <td>0</td>\n",
       "      <td>0</td>\n",
       "      <td>0</td>\n",
       "      <td>0</td>\n",
       "      <td>0</td>\n",
       "      <td>0</td>\n",
       "      <td>0</td>\n",
       "      <td>1</td>\n",
       "      <td>0</td>\n",
       "      <td>0</td>\n",
       "      <td>0</td>\n",
       "      <td>1</td>\n",
       "    </tr>\n",
       "    <tr>\n",
       "      <th>4</th>\n",
       "      <td>5004</td>\n",
       "      <td>21237</td>\n",
       "      <td>98</td>\n",
       "      <td>0</td>\n",
       "      <td>0</td>\n",
       "      <td>0</td>\n",
       "      <td>0</td>\n",
       "      <td>0</td>\n",
       "      <td>0</td>\n",
       "      <td>0</td>\n",
       "      <td>0</td>\n",
       "      <td>0</td>\n",
       "      <td>0</td>\n",
       "      <td>0</td>\n",
       "      <td>0</td>\n",
       "      <td>0</td>\n",
       "      <td>0</td>\n",
       "      <td>0</td>\n",
       "      <td>0</td>\n",
       "      <td>0</td>\n",
       "      <td>0</td>\n",
       "      <td>0</td>\n",
       "      <td>0</td>\n",
       "      <td>1</td>\n",
       "      <td>0</td>\n",
       "      <td>0</td>\n",
       "      <td>0</td>\n",
       "      <td>0</td>\n",
       "      <td>0</td>\n",
       "      <td>0</td>\n",
       "      <td>0</td>\n",
       "      <td>0</td>\n",
       "      <td>0</td>\n",
       "      <td>0</td>\n",
       "      <td>0</td>\n",
       "      <td>0</td>\n",
       "      <td>0</td>\n",
       "      <td>0</td>\n",
       "      <td>0</td>\n",
       "      <td>0</td>\n",
       "      <td>0</td>\n",
       "      <td>0</td>\n",
       "      <td>0</td>\n",
       "      <td>0</td>\n",
       "      <td>1</td>\n",
       "      <td>0</td>\n",
       "      <td>0</td>\n",
       "      <td>0</td>\n",
       "      <td>0</td>\n",
       "      <td>0</td>\n",
       "      <td>0</td>\n",
       "      <td>0</td>\n",
       "      <td>0</td>\n",
       "      <td>0</td>\n",
       "      <td>0</td>\n",
       "      <td>0</td>\n",
       "      <td>0</td>\n",
       "      <td>0</td>\n",
       "      <td>1</td>\n",
       "    </tr>\n",
       "  </tbody>\n",
       "</table>\n",
       "</div>"
      ],
      "text/plain": [
       "   num_comments  score  num_char  day_1  day_2  day_3  day_4  day_5  day_6  \\\n",
       "0          9093  67198        49      0      0      0      0      1      0   \n",
       "1         17764  54117        74      0      0      0      0      0      0   \n",
       "2          4675  51147        63      0      0      0      0      0      1   \n",
       "3          5910  45088       122      0      0      0      0      0      0   \n",
       "4          5004  21237        98      0      0      0      0      0      0   \n",
       "\n",
       "   day_7  day_8  day_9  day_10  day_11  day_12  day_13  day_14  day_15  \\\n",
       "0      0      0      0       0       0       0       0       0       0   \n",
       "1      0      0      0       0       0       0       0       0       0   \n",
       "2      0      0      0       0       0       0       0       0       0   \n",
       "3      0      0      0       0       0       0       0       0       0   \n",
       "4      0      0      0       0       0       0       0       0       0   \n",
       "\n",
       "   day_16  day_17  day_18  day_19  day_20  day_21  day_22  day_23  day_24  \\\n",
       "0       0       0       0       0       0       0       0       0       0   \n",
       "1       0       0       0       0       0       1       0       0       0   \n",
       "2       0       0       0       0       0       0       0       0       0   \n",
       "3       0       0       0       0       1       0       0       0       0   \n",
       "4       0       0       0       0       0       1       0       0       0   \n",
       "\n",
       "   day_25  day_26  day_27  day_28  day_29  day_30  day_31  hour_0  hour_1  \\\n",
       "0       0       0       0       0       0       0       0       0       0   \n",
       "1       0       0       0       0       0       0       0       0       0   \n",
       "2       0       0       0       0       0       0       0       0       0   \n",
       "3       0       0       0       0       0       0       0       0       0   \n",
       "4       0       0       0       0       0       0       0       0       0   \n",
       "\n",
       "   hour_2  hour_3  hour_4  hour_5  hour_6  hour_7  hour_8  hour_9  hour_10  \\\n",
       "0       0       0       0       0       0       0       0       0        0   \n",
       "1       0       1       0       0       0       0       0       0        0   \n",
       "2       0       0       0       0       0       1       0       0        0   \n",
       "3       0       0       0       0       0       0       0       0        0   \n",
       "4       0       0       0       0       0       0       0       0        1   \n",
       "\n",
       "   hour_11  hour_12  hour_13  hour_14  hour_15  hour_16  hour_17  hour_18  \\\n",
       "0        0        0        0        0        0        0        0        0   \n",
       "1        0        0        0        0        0        0        0        0   \n",
       "2        0        0        0        0        0        0        0        0   \n",
       "3        0        0        0        0        0        0        0        0   \n",
       "4        0        0        0        0        0        0        0        0   \n",
       "\n",
       "   hour_19  hour_20  hour_21  hour_22  hour_23  subreddit  \n",
       "0        0        0        0        0        1          1  \n",
       "1        0        0        0        0        0          1  \n",
       "2        0        0        0        0        0          1  \n",
       "3        0        1        0        0        0          1  \n",
       "4        0        0        0        0        0          1  "
      ]
     },
     "execution_count": 147,
     "metadata": {},
     "output_type": "execute_result"
    }
   ],
   "source": [
    "# shifting the target variable subreddit column to the last column \n",
    "temp = df_combined['subreddit']\n",
    "df_combined = pd.concat((df_combined.drop(columns='subreddit'),temp),axis=1)\n",
    "df_combined.head()"
   ]
  },
  {
   "cell_type": "markdown",
   "id": "81d669fa",
   "metadata": {},
   "source": [
    "___"
   ]
  },
  {
   "cell_type": "markdown",
   "id": "5e83ae67",
   "metadata": {},
   "source": [
    "# Modeling - Logistic Regression"
   ]
  },
  {
   "cell_type": "code",
   "execution_count": 148,
   "id": "033453ad",
   "metadata": {},
   "outputs": [],
   "source": [
    "# randomize the rows\n",
    "df_combined = df_combined.sample(frac=1).reset_index(drop=True)"
   ]
  },
  {
   "cell_type": "markdown",
   "id": "3ae75ee5",
   "metadata": {},
   "source": []
  },
  {
   "cell_type": "code",
   "execution_count": 149,
   "id": "ce7b1007",
   "metadata": {},
   "outputs": [],
   "source": [
    "# train test split\n",
    "X_train, X_test, y_train, y_test = train_test_split(df_combined.drop(columns='subreddit'),\n",
    "                                                   df_combined['subreddit'], test_size=0.2,\n",
    "                                                   random_state=200)\n",
    "# apply standardscaler\n",
    "ss = StandardScaler()\n",
    "X_train_sc = ss.fit_transform(X_train)\n",
    "X_test_sc = ss.transform(X_test)\n",
    "\n",
    "# dont apply standardscaler\n",
    "# X_train_sc = X_train\n",
    "# X_test_sc = X_test"
   ]
  },
  {
   "cell_type": "code",
   "execution_count": 150,
   "id": "cc550dd7",
   "metadata": {},
   "outputs": [
    {
     "name": "stdout",
     "output_type": "stream",
     "text": [
      "(4000, 58)\n",
      "(4000,)\n"
     ]
    }
   ],
   "source": [
    "print(X_train_sc.shape)\n",
    "print(y_train.shape)"
   ]
  },
  {
   "cell_type": "markdown",
   "id": "5e6288d5",
   "metadata": {},
   "source": [
    "**deploy and evaluate model**\n",
    "- QUESTION: WHY DOES STANDARD SCALER GIVE WORSE RESULT?\n",
    "- w/o ss: train/test 0.96/0.95\n",
    "- w ss: train/test 0.86/0.86"
   ]
  },
  {
   "cell_type": "code",
   "execution_count": 151,
   "id": "11c7ce5e",
   "metadata": {},
   "outputs": [
    {
     "name": "stdout",
     "output_type": "stream",
     "text": [
      "0.86875\n",
      "0.845\n"
     ]
    }
   ],
   "source": [
    "LogReg = LogisticRegression(solver='liblinear')\n",
    "LogReg.fit(X_train_sc, y_train)\n",
    "y_pred = LogReg.predict(X_test_sc)\n",
    "print(LogReg.score(X_train_sc, y_train))\n",
    "print(LogReg.score(X_test_sc, y_test))"
   ]
  },
  {
   "cell_type": "markdown",
   "id": "938886a7",
   "metadata": {},
   "source": [
    "#### GridSearchCV for hyperparameter tuning"
   ]
  },
  {
   "cell_type": "code",
   "execution_count": 152,
   "id": "57f1f979",
   "metadata": {},
   "outputs": [],
   "source": [
    "from sklearn.model_selection import GridSearchCV\n",
    "# use GridSearchCV to find the hyperparameters that gives the best modelling scores \n",
    "LogReg = LogisticRegression()\n",
    "LogReg = GridSearchCV(estimator=LogReg, param_grid={'C': [1,10,20], 'solver':['newton-cg','liblinear','lbfgs'],\n",
    "                                          'l1_ratio':[0.25,0.5,0.75]}, verbose = 1, cv =5, return_train_score = False)"
   ]
  },
  {
   "cell_type": "code",
   "execution_count": 153,
   "id": "f83c3f5f",
   "metadata": {},
   "outputs": [
    {
     "name": "stdout",
     "output_type": "stream",
     "text": [
      "Fitting 5 folds for each of 27 candidates, totalling 135 fits\n"
     ]
    },
    {
     "data": {
      "text/plain": [
       "{'C': 20, 'l1_ratio': 0.25, 'solver': 'newton-cg'}"
      ]
     },
     "execution_count": 153,
     "metadata": {},
     "output_type": "execute_result"
    }
   ],
   "source": [
    "# fit scaled train data into the Logistic Regression GridSearch model \n",
    "LogReg.fit(X_train_sc, y_train)\n",
    "LogReg.cv_results_\n",
    "# df = pd.DataFrame(LogReg.cv_results_)\n",
    "# df = df[['mean_test_score','param_solver','param_l1_ratio','param_C']]\n",
    "# df.sort_values(by='mean_test_score', ascending=False).head()\n",
    "LogReg.best_params_"
   ]
  },
  {
   "cell_type": "code",
   "execution_count": 154,
   "id": "543933ce",
   "metadata": {},
   "outputs": [
    {
     "name": "stdout",
     "output_type": "stream",
     "text": [
      "0.92825\n",
      "0.901\n"
     ]
    }
   ],
   "source": [
    "# apply the best hyperparameters which we got from GridSearch above into our model.\n",
    "LogReg_GridSearch = LogisticRegression(C= 20, l1_ratio= 0.25, solver= 'newton-cg')\n",
    "LogReg_GridSearch.fit(X_train_sc, y_train)\n",
    "y_pred = LogReg_GridSearch.predict(X_test_sc)\n",
    "print(LogReg_GridSearch.score(X_train_sc, y_train))\n",
    "print(LogReg_GridSearch.score(X_test_sc, y_test))"
   ]
  },
  {
   "cell_type": "markdown",
   "id": "77172973",
   "metadata": {},
   "source": [
    "**From the above, we see that hyperparameter tuning thru GridSearchCV improved the Logistic Regression results for test set substantially from from 0.84 to 0.91**"
   ]
  },
  {
   "cell_type": "markdown",
   "id": "af941caa",
   "metadata": {},
   "source": [
    "- Classification report with tuned hyperparameters\n",
    "- Plot of confusion matrix"
   ]
  },
  {
   "cell_type": "code",
   "execution_count": 155,
   "id": "02c69a49",
   "metadata": {},
   "outputs": [
    {
     "name": "stdout",
     "output_type": "stream",
     "text": [
      "              precision    recall  f1-score   support\n",
      "\n",
      "           0       0.90      0.90      0.90       488\n",
      "           1       0.90      0.90      0.90       512\n",
      "\n",
      "    accuracy                           0.90      1000\n",
      "   macro avg       0.90      0.90      0.90      1000\n",
      "weighted avg       0.90      0.90      0.90      1000\n",
      "\n"
     ]
    },
    {
     "data": {
      "image/png": "[encoded data removed]",
      "text/plain": [
       "<Figure size 720x360 with 2 Axes>"
      ]
     },
     "metadata": {
      "needs_background": "light"
     },
     "output_type": "display_data"
    }
   ],
   "source": [
    "print(classification_report(y_test, y_pred))\n",
    "\n",
    "# plot heatmap to see the confusion matrix in train and test sets respectively\n",
    "fig ,ax = plt.subplots(1,2, figsize=(10,5))\n",
    "fig.suptitle(\"Confusion Matrix\", fontsize=20)\n",
    "fig.tight_layout(pad = 3)\n",
    "\n",
    "sns.heatmap(\n",
    "    confusion_matrix(y_train, LogReg_GridSearch.predict(X_train_sc)),\n",
    "    annot= True,\n",
    "    square = True,\n",
    "    linecolor= \"Black\",\n",
    "    linewidths=1,\n",
    "    ax=ax[0],\n",
    "    fmt='g',\n",
    "    cmap ='Blues',\n",
    "    annot_kws={\"size\": 15},\n",
    "    cbar=False\n",
    "\n",
    ")\n",
    "ax[0].set_title(\"Train Set\", fontsize=15);\n",
    "ax[0].set_xticklabels(['r/TheOnion','news'], fontsize=10)\n",
    "ax[0].set_yticklabels(['r/TheOnion','news'], fontsize=10)\n",
    "\n",
    "\n",
    "sns.heatmap(\n",
    "    confusion_matrix(y_test, y_pred),\n",
    "    annot= True,\n",
    "    square = True,\n",
    "    linecolor= \"Black\",\n",
    "    linewidths=1,\n",
    "    ax=ax[1],\n",
    "    fmt='g',\n",
    "    cmap ='BuGn',\n",
    "    annot_kws={\"size\": 15},\n",
    "    cbar=False\n",
    ")\n",
    "ax[1].set_title(\"Test Set\", fontsize=15);\n",
    "ax[1].set_xticklabels(['r/TheOnion','news'], fontsize=10)\n",
    "ax[1].set_yticklabels(['r/TheOnion','news'], fontsize=10);\n"
   ]
  },
  {
   "cell_type": "markdown",
   "id": "d7a866a3",
   "metadata": {},
   "source": [
    "**making a test prediction**"
   ]
  },
  {
   "cell_type": "code",
   "execution_count": 156,
   "id": "7ca675d4",
   "metadata": {},
   "outputs": [
    {
     "data": {
      "text/html": [
       "<div>\n",
       "<style scoped>\n",
       "    .dataframe tbody tr th:only-of-type {\n",
       "        vertical-align: middle;\n",
       "    }\n",
       "\n",
       "    .dataframe tbody tr th {\n",
       "        vertical-align: top;\n",
       "    }\n",
       "\n",
       "    .dataframe thead th {\n",
       "        text-align: right;\n",
       "    }\n",
       "</style>\n",
       "<table border=\"1\" class=\"dataframe\">\n",
       "  <thead>\n",
       "    <tr style=\"text-align: right;\">\n",
       "      <th></th>\n",
       "      <th>num_comments</th>\n",
       "      <th>score</th>\n",
       "      <th>num_char</th>\n",
       "      <th>day_1</th>\n",
       "      <th>day_2</th>\n",
       "      <th>day_3</th>\n",
       "      <th>day_4</th>\n",
       "      <th>day_5</th>\n",
       "      <th>day_6</th>\n",
       "      <th>day_7</th>\n",
       "      <th>day_8</th>\n",
       "      <th>day_9</th>\n",
       "      <th>day_10</th>\n",
       "      <th>day_11</th>\n",
       "      <th>day_12</th>\n",
       "      <th>day_13</th>\n",
       "      <th>day_14</th>\n",
       "      <th>day_15</th>\n",
       "      <th>day_16</th>\n",
       "      <th>day_17</th>\n",
       "      <th>day_18</th>\n",
       "      <th>day_19</th>\n",
       "      <th>day_20</th>\n",
       "      <th>day_21</th>\n",
       "      <th>day_22</th>\n",
       "      <th>day_23</th>\n",
       "      <th>day_24</th>\n",
       "      <th>day_25</th>\n",
       "      <th>day_26</th>\n",
       "      <th>day_27</th>\n",
       "      <th>day_28</th>\n",
       "      <th>day_29</th>\n",
       "      <th>day_30</th>\n",
       "      <th>day_31</th>\n",
       "      <th>hour_0</th>\n",
       "      <th>hour_1</th>\n",
       "      <th>hour_2</th>\n",
       "      <th>hour_3</th>\n",
       "      <th>hour_4</th>\n",
       "      <th>hour_5</th>\n",
       "      <th>hour_6</th>\n",
       "      <th>hour_7</th>\n",
       "      <th>hour_8</th>\n",
       "      <th>hour_9</th>\n",
       "      <th>hour_10</th>\n",
       "      <th>hour_11</th>\n",
       "      <th>hour_12</th>\n",
       "      <th>hour_13</th>\n",
       "      <th>hour_14</th>\n",
       "      <th>hour_15</th>\n",
       "      <th>hour_16</th>\n",
       "      <th>hour_17</th>\n",
       "      <th>hour_18</th>\n",
       "      <th>hour_19</th>\n",
       "      <th>hour_20</th>\n",
       "      <th>hour_21</th>\n",
       "      <th>hour_22</th>\n",
       "      <th>hour_23</th>\n",
       "      <th>subreddit</th>\n",
       "    </tr>\n",
       "  </thead>\n",
       "  <tbody>\n",
       "    <tr>\n",
       "      <th>904</th>\n",
       "      <td>19</td>\n",
       "      <td>1</td>\n",
       "      <td>65</td>\n",
       "      <td>0</td>\n",
       "      <td>0</td>\n",
       "      <td>1</td>\n",
       "      <td>0</td>\n",
       "      <td>0</td>\n",
       "      <td>0</td>\n",
       "      <td>0</td>\n",
       "      <td>0</td>\n",
       "      <td>0</td>\n",
       "      <td>0</td>\n",
       "      <td>0</td>\n",
       "      <td>0</td>\n",
       "      <td>0</td>\n",
       "      <td>0</td>\n",
       "      <td>0</td>\n",
       "      <td>0</td>\n",
       "      <td>0</td>\n",
       "      <td>0</td>\n",
       "      <td>0</td>\n",
       "      <td>0</td>\n",
       "      <td>0</td>\n",
       "      <td>0</td>\n",
       "      <td>0</td>\n",
       "      <td>0</td>\n",
       "      <td>0</td>\n",
       "      <td>0</td>\n",
       "      <td>0</td>\n",
       "      <td>0</td>\n",
       "      <td>0</td>\n",
       "      <td>0</td>\n",
       "      <td>0</td>\n",
       "      <td>0</td>\n",
       "      <td>0</td>\n",
       "      <td>0</td>\n",
       "      <td>0</td>\n",
       "      <td>0</td>\n",
       "      <td>0</td>\n",
       "      <td>0</td>\n",
       "      <td>0</td>\n",
       "      <td>0</td>\n",
       "      <td>1</td>\n",
       "      <td>0</td>\n",
       "      <td>0</td>\n",
       "      <td>0</td>\n",
       "      <td>0</td>\n",
       "      <td>0</td>\n",
       "      <td>0</td>\n",
       "      <td>0</td>\n",
       "      <td>0</td>\n",
       "      <td>0</td>\n",
       "      <td>0</td>\n",
       "      <td>0</td>\n",
       "      <td>0</td>\n",
       "      <td>0</td>\n",
       "      <td>0</td>\n",
       "      <td>1</td>\n",
       "    </tr>\n",
       "  </tbody>\n",
       "</table>\n",
       "</div>"
      ],
      "text/plain": [
       "     num_comments  score  num_char  day_1  day_2  day_3  day_4  day_5  day_6  \\\n",
       "904            19      1        65      0      0      1      0      0      0   \n",
       "\n",
       "     day_7  day_8  day_9  day_10  day_11  day_12  day_13  day_14  day_15  \\\n",
       "904      0      0      0       0       0       0       0       0       0   \n",
       "\n",
       "     day_16  day_17  day_18  day_19  day_20  day_21  day_22  day_23  day_24  \\\n",
       "904       0       0       0       0       0       0       0       0       0   \n",
       "\n",
       "     day_25  day_26  day_27  day_28  day_29  day_30  day_31  hour_0  hour_1  \\\n",
       "904       0       0       0       0       0       0       0       0       0   \n",
       "\n",
       "     hour_2  hour_3  hour_4  hour_5  hour_6  hour_7  hour_8  hour_9  hour_10  \\\n",
       "904       0       0       0       0       0       0       0       1        0   \n",
       "\n",
       "     hour_11  hour_12  hour_13  hour_14  hour_15  hour_16  hour_17  hour_18  \\\n",
       "904        0        0        0        0        0        0        0        0   \n",
       "\n",
       "     hour_19  hour_20  hour_21  hour_22  hour_23  subreddit  \n",
       "904        0        0        0        0        0          1  "
      ]
     },
     "execution_count": 156,
     "metadata": {},
     "output_type": "execute_result"
    }
   ],
   "source": [
    "df_combined[904:905]"
   ]
  },
  {
   "cell_type": "code",
   "execution_count": 157,
   "id": "671e68fd",
   "metadata": {},
   "outputs": [
    {
     "name": "stdout",
     "output_type": "stream",
     "text": [
      "[1]\n",
      "[[0. 1.]]\n"
     ]
    }
   ],
   "source": [
    "test_subreddit = np.array(df_combined.iloc[904,:-1]).reshape(1,-1)\n",
    "print(LogReg.predict(test_subreddit))\n",
    "print(LogReg.predict_proba(test_subreddit))"
   ]
  },
  {
   "cell_type": "markdown",
   "id": "793d4ef4",
   "metadata": {},
   "source": [
    "___"
   ]
  },
  {
   "cell_type": "markdown",
   "id": "d60c3984",
   "metadata": {},
   "source": [
    "# Modeling - K-Nearest Neighbors (KNN)"
   ]
  },
  {
   "cell_type": "code",
   "execution_count": 158,
   "id": "8024c194",
   "metadata": {},
   "outputs": [],
   "source": [
    "df_combined.head()\n",
    "\n",
    "X = df_combined.iloc[:,:-1]\n",
    "y = df_combined.iloc[:,-1]"
   ]
  },
  {
   "cell_type": "code",
   "execution_count": 159,
   "id": "744b7058",
   "metadata": {},
   "outputs": [],
   "source": [
    "X_train, X_test, y_train, y_test =train_test_split(X, y, test_size=.2, random_state=17)\n",
    "ss = StandardScaler()\n",
    "X_train_sc = ss.fit_transform(X_train)\n",
    "X_test_sc = ss.transform(X_test)"
   ]
  },
  {
   "cell_type": "code",
   "execution_count": 160,
   "id": "87bd7841",
   "metadata": {},
   "outputs": [],
   "source": [
    "# instantiate KNN\n",
    "knn = KNeighborsClassifier(n_neighbors=3)"
   ]
  },
  {
   "cell_type": "markdown",
   "id": "a3bcb43c",
   "metadata": {},
   "source": [
    "**Train / Test set evaluation**"
   ]
  },
  {
   "cell_type": "code",
   "execution_count": 161,
   "id": "659a9d36",
   "metadata": {},
   "outputs": [
    {
     "name": "stdout",
     "output_type": "stream",
     "text": [
      "0.8545\n",
      "0.7352500000000001\n",
      "0.751\n",
      "0.671\n"
     ]
    }
   ],
   "source": [
    "knn.fit(X_train_sc, y_train)\n",
    "print(knn.score(X_train_sc, y_train))\n",
    "print(cross_val_score(knn, X_train_sc, y_train, cv=5).mean())\n",
    "\n",
    "print(knn.score(X_test_sc, y_test))\n",
    "print(cross_val_score(knn, X_test_sc, y_test, cv=5).mean())"
   ]
  },
  {
   "cell_type": "markdown",
   "id": "02a16f47",
   "metadata": {},
   "source": [
    "#### GridSearchCV for hyperparameter tuning"
   ]
  },
  {
   "cell_type": "code",
   "execution_count": 162,
   "id": "f4bc3050",
   "metadata": {},
   "outputs": [],
   "source": [
    "knn = KNeighborsClassifier()\n",
    "knn = GridSearchCV(estimator=knn, param_grid={'n_neighbors':[3,5,7,9],'weights':['uniform','distance'], \n",
    "                                        'algorithm':['ball_tree','kd_tree','auto']},\n",
    "             verbose = 1, cv =5,return_train_score = False)"
   ]
  },
  {
   "cell_type": "code",
   "execution_count": 163,
   "id": "1999d59f",
   "metadata": {},
   "outputs": [
    {
     "name": "stdout",
     "output_type": "stream",
     "text": [
      "Fitting 5 folds for each of 24 candidates, totalling 120 fits\n"
     ]
    },
    {
     "data": {
      "text/plain": [
       "GridSearchCV(cv=5, estimator=KNeighborsClassifier(),\n",
       "             param_grid={'algorithm': ['ball_tree', 'kd_tree', 'auto'],\n",
       "                         'n_neighbors': [3, 5, 7, 9],\n",
       "                         'weights': ['uniform', 'distance']},\n",
       "             verbose=1)"
      ]
     },
     "execution_count": 163,
     "metadata": {},
     "output_type": "execute_result"
    }
   ],
   "source": [
    "knn.fit(X_train_sc,y_train)"
   ]
  },
  {
   "cell_type": "code",
   "execution_count": 164,
   "id": "1dee8f90",
   "metadata": {},
   "outputs": [
    {
     "data": {
      "text/plain": [
       "{'algorithm': 'ball_tree', 'n_neighbors': 3, 'weights': 'uniform'}"
      ]
     },
     "execution_count": 164,
     "metadata": {},
     "output_type": "execute_result"
    }
   ],
   "source": [
    "df = pd.DataFrame(knn.cv_results_)\n",
    "df = df[['param_algorithm','param_n_neighbors','param_weights','mean_test_score']]\n",
    "df.head()\n",
    "knn.best_params_"
   ]
  },
  {
   "cell_type": "code",
   "execution_count": 165,
   "id": "19f557e9",
   "metadata": {},
   "outputs": [
    {
     "name": "stdout",
     "output_type": "stream",
     "text": [
      "0.8545\n",
      "0.751\n"
     ]
    }
   ],
   "source": [
    "knn_GridSearch = KNeighborsClassifier(algorithm= 'ball_tree', n_neighbors= 3, weights= 'uniform')\n",
    "knn_GridSearch.fit(X_train_sc, y_train)\n",
    "y_pred = knn_GridSearch.predict(X_test_sc)\n",
    "print(knn_GridSearch.score(X_train_sc, y_train))\n",
    "print(knn_GridSearch.score(X_test_sc, y_test))"
   ]
  },
  {
   "cell_type": "markdown",
   "id": "659c8324",
   "metadata": {},
   "source": [
    "___"
   ]
  },
  {
   "cell_type": "markdown",
   "id": "79b0d0e7",
   "metadata": {},
   "source": [
    "# Visualizing additional external datasets"
   ]
  },
  {
   "cell_type": "code",
   "execution_count": 166,
   "id": "aace5fde",
   "metadata": {},
   "outputs": [],
   "source": [
    "df_news_testext = pd.read_csv('../data/rnews; Top 1000 scores using PRAW.csv')\n",
    "df_onion_testext = pd.read_csv('../data/rTheOnion; Top 5000 based on score.csv')\n",
    "\n",
    "# converting target variable into binary\n",
    "df_news_testext = df_news_testext[['title','created_utc']]\n",
    "df_news_testext['subreddit'] = 1\n",
    "df_onion_testext= df_onion_testext[['title','created_utc']]\n",
    "df_onion_testext['subreddit'] = 0\n",
    "\n",
    "# combine external datasets top 500 each\n",
    "df_combined_testext = pd.concat((df_news_testext[0:500],df_onion_testext[0:500]), axis=0)\n",
    "df_combined_testext = df_combined_testext.sample(frac=1).reset_index(drop=True)\n",
    "\n",
    "# converting and splitting the created_utc column into its\n",
    "# respective month, day, hour columns\n",
    "df_combined_testext['created_utc'] = df_combined_testext['created_utc'].map(lambda x:\n",
    "                                                    datetime.datetime.fromtimestamp(x))\n",
    "\n",
    "df_combined_testext['month'] =  df_combined_testext['created_utc'].dt.month\n",
    "df_combined_testext['day'] =  df_combined_testext['created_utc'].dt.day\n",
    "df_combined_testext['hour'] =  df_combined_testext['created_utc'].dt.hour\n",
    "\n",
    "# dropping columns that are not required\n",
    "df_combined_testext = df_combined_testext.drop(columns=['created_utc'])\n"
   ]
  },
  {
   "cell_type": "code",
   "execution_count": 167,
   "id": "d1fc5734",
   "metadata": {},
   "outputs": [
    {
     "data": {
      "text/html": [
       "<div>\n",
       "<style scoped>\n",
       "    .dataframe tbody tr th:only-of-type {\n",
       "        vertical-align: middle;\n",
       "    }\n",
       "\n",
       "    .dataframe tbody tr th {\n",
       "        vertical-align: top;\n",
       "    }\n",
       "\n",
       "    .dataframe thead th {\n",
       "        text-align: right;\n",
       "    }\n",
       "</style>\n",
       "<table border=\"1\" class=\"dataframe\">\n",
       "  <thead>\n",
       "    <tr style=\"text-align: right;\">\n",
       "      <th></th>\n",
       "      <th>title</th>\n",
       "      <th>subreddit</th>\n",
       "      <th>month</th>\n",
       "      <th>day</th>\n",
       "      <th>hour</th>\n",
       "    </tr>\n",
       "  </thead>\n",
       "  <tbody>\n",
       "    <tr>\n",
       "      <th>0</th>\n",
       "      <td>General Mills Releases New Lucky Charms With 1...</td>\n",
       "      <td>0</td>\n",
       "      <td>3</td>\n",
       "      <td>17</td>\n",
       "      <td>21</td>\n",
       "    </tr>\n",
       "    <tr>\n",
       "      <th>1</th>\n",
       "      <td>'Jeopardy' host Alex Trebek dies at 80 due to ...</td>\n",
       "      <td>1</td>\n",
       "      <td>11</td>\n",
       "      <td>9</td>\n",
       "      <td>1</td>\n",
       "    </tr>\n",
       "    <tr>\n",
       "      <th>2</th>\n",
       "      <td>PornHub Expands Parental Controls For User Acc...</td>\n",
       "      <td>0</td>\n",
       "      <td>3</td>\n",
       "      <td>2</td>\n",
       "      <td>5</td>\n",
       "    </tr>\n",
       "    <tr>\n",
       "      <th>3</th>\n",
       "      <td>Police Repeatedly Shoot Tim Cook After Mistaki...</td>\n",
       "      <td>0</td>\n",
       "      <td>3</td>\n",
       "      <td>30</td>\n",
       "      <td>2</td>\n",
       "    </tr>\n",
       "    <tr>\n",
       "      <th>4</th>\n",
       "      <td>Restoration Of 'Star Spangled Banner' Uncovers...</td>\n",
       "      <td>0</td>\n",
       "      <td>5</td>\n",
       "      <td>28</td>\n",
       "      <td>20</td>\n",
       "    </tr>\n",
       "  </tbody>\n",
       "</table>\n",
       "</div>"
      ],
      "text/plain": [
       "                                               title  subreddit  month  day  \\\n",
       "0  General Mills Releases New Lucky Charms With 1...          0      3   17   \n",
       "1  'Jeopardy' host Alex Trebek dies at 80 due to ...          1     11    9   \n",
       "2  PornHub Expands Parental Controls For User Acc...          0      3    2   \n",
       "3  Police Repeatedly Shoot Tim Cook After Mistaki...          0      3   30   \n",
       "4  Restoration Of 'Star Spangled Banner' Uncovers...          0      5   28   \n",
       "\n",
       "   hour  \n",
       "0    21  \n",
       "1     1  \n",
       "2     5  \n",
       "3     2  \n",
       "4    20  "
      ]
     },
     "execution_count": 167,
     "metadata": {},
     "output_type": "execute_result"
    }
   ],
   "source": [
    "df_combined_testext.head()"
   ]
  },
  {
   "cell_type": "code",
   "execution_count": 168,
   "id": "e86c2240",
   "metadata": {},
   "outputs": [
    {
     "data": {
      "image/png": "[encoded data removed]",
      "text/plain": [
       "<Figure size 576x288 with 1 Axes>"
      ]
     },
     "metadata": {
      "needs_background": "light"
     },
     "output_type": "display_data"
    }
   ],
   "source": [
    "# plotting to see the differences in hour of day when r/news and r/TheOnion posts are posted\n",
    "plt.figure(figsize=(8,4))\n",
    "sns.countplot(x='hour', data=df_combined_testext, hue='subreddit');\n",
    "plt.title(\"Hour at which r/news and r/TheOnion posts are created\", fontsize=14);\n",
    "plt.legend([\"r/TheOnion\",\"r/news\"]);"
   ]
  },
  {
   "cell_type": "code",
   "execution_count": 169,
   "id": "9e9aa3ee",
   "metadata": {},
   "outputs": [
    {
     "data": {
      "image/png": "[encoded data removed]",
      "text/plain": [
       "<Figure size 576x288 with 1 Axes>"
      ]
     },
     "metadata": {
      "needs_background": "light"
     },
     "output_type": "display_data"
    }
   ],
   "source": [
    "# plotting to see the differences in hour of day when r/news and r/TheOnion posts are posted\n",
    "plt.figure(figsize=(8,4))\n",
    "sns.countplot(x='day', data=df_combined_testext, hue='subreddit');\n",
    "plt.title(\"Day at which r/news and r/TheOnion posts are created\", fontsize=14);\n",
    "plt.legend([\"r/TheOnion\",\"r/news\"]);"
   ]
  }
 ],
 "metadata": {
  "kernelspec": {
   "display_name": "Python 3",
   "language": "python",
   "name": "python3"
  },
  "language_info": {
   "codemirror_mode": {
    "name": "ipython",
    "version": 3
   },
   "file_extension": ".py",
   "mimetype": "text/x-python",
   "name": "python",
   "nbconvert_exporter": "python",
   "pygments_lexer": "ipython3",
   "version": "3.8.8"
  }
 },
 "nbformat": 4,
 "nbformat_minor": 5
}
